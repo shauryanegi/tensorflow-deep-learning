{
  "nbformat": 4,
  "nbformat_minor": 0,
  "metadata": {
    "colab": {
      "name": "01_neural_network_regression_in_tensorflow_video.ipynb",
      "provenance": [],
      "authorship_tag": "ABX9TyMuXOMTdTjdTKYxJheh/gOe",
      "include_colab_link": true
    },
    "kernelspec": {
      "display_name": "Python 3",
      "name": "python3"
    },
    "language_info": {
      "name": "python"
    }
  },
  "cells": [
    {
      "cell_type": "markdown",
      "metadata": {
        "id": "view-in-github",
        "colab_type": "text"
      },
      "source": [
        "<a href=\"https://colab.research.google.com/github/shauryanegi/tensorflow-deep-learning/blob/gh-pages/01_neural_network_regression_in_tensorflow_video.ipynb\" target=\"_parent\"><img src=\"https://colab.research.google.com/assets/colab-badge.svg\" alt=\"Open In Colab\"/></a>"
      ]
    },
    {
      "cell_type": "markdown",
      "metadata": {
        "id": "vN0PW1oeq2m6"
      },
      "source": [
        "# Introduction to Regression with Neural Networks in TensorFlow\n",
        "\n",
        "There are many definitions for a regression problem in our case, we're going to simplify it: predicting a numerical variable based on some combination of variables, even shorter....predicting a number."
      ]
    },
    {
      "cell_type": "code",
      "metadata": {
        "colab": {
          "base_uri": "https://localhost:8080/"
        },
        "id": "x5PSXVkAtEXJ",
        "outputId": "aa62cfaf-0598-4b09-b8ae-c46d9e044104"
      },
      "source": [
        "# Import TensorFlow\n",
        "import tensorflow as tf\n",
        "print(tf.__version__)"
      ],
      "execution_count": null,
      "outputs": [
        {
          "output_type": "stream",
          "text": [
            "2.5.0\n"
          ],
          "name": "stdout"
        }
      ]
    },
    {
      "cell_type": "markdown",
      "metadata": {
        "id": "OQTTbPgNtNJG"
      },
      "source": [
        "## Creating a data to view and fit"
      ]
    },
    {
      "cell_type": "code",
      "metadata": {
        "colab": {
          "base_uri": "https://localhost:8080/",
          "height": 286
        },
        "id": "X0BJr_OOtdHy",
        "outputId": "5d3571ce-7728-4a28-ee69-a111ed23309e"
      },
      "source": [
        "import numpy as np\n",
        "import matplotlib.pyplot as plt\n",
        "\n",
        "# Create features\n",
        "X = np.array([-7.0, -4.0, -1.0, 2.0, 5.0, 8.0, 11.0, 14.0])\n",
        "\n",
        "# Create labels\n",
        "y = np.array([3.0, 6.0, 9.0, 12.0, 15.0, 18.0, 21.0, 24.0])\n",
        "\n",
        "# Visualize it\n",
        "plt.style.use(\"ggplot\")\n",
        "plt.scatter(X, y)\n"
      ],
      "execution_count": null,
      "outputs": [
        {
          "output_type": "execute_result",
          "data": {
            "text/plain": [
              "<matplotlib.collections.PathCollection at 0x7f6a2958fad0>"
            ]
          },
          "metadata": {
            "tags": []
          },
          "execution_count": 202
        },
        {
          "output_type": "display_data",
          "data": {
            "image/png": "[encoded data removed]",
            "text/plain": [
              "<Figure size 432x288 with 1 Axes>"
            ]
          },
          "metadata": {
            "tags": []
          }
        }
      ]
    },
    {
      "cell_type": "code",
      "metadata": {
        "colab": {
          "base_uri": "https://localhost:8080/"
        },
        "id": "LrNJUrlZtyYD",
        "outputId": "6d9f8517-9c4a-4269-84bb-79aff24255e4"
      },
      "source": [
        "y == X + 10"
      ],
      "execution_count": null,
      "outputs": [
        {
          "output_type": "execute_result",
          "data": {
            "text/plain": [
              "array([ True,  True,  True,  True,  True,  True,  True,  True])"
            ]
          },
          "metadata": {
            "tags": []
          },
          "execution_count": 203
        }
      ]
    },
    {
      "cell_type": "markdown",
      "metadata": {
        "id": "tBtFlayquNV6"
      },
      "source": [
        "# Input and output shapes"
      ]
    },
    {
      "cell_type": "code",
      "metadata": {
        "colab": {
          "base_uri": "https://localhost:8080/"
        },
        "id": "0d9y1spBudnh",
        "outputId": "cef81543-d459-4bf8-8453-a3d027110b88"
      },
      "source": [
        "# Create a demo tensor for our housing price prediction problem\n",
        "house_info = tf.constant([\"bedroom\",\"bathroom\",\"garage\"])\n",
        "house_price = tf.constant([939700])\n",
        "\n",
        "house_info,house_price"
      ],
      "execution_count": null,
      "outputs": [
        {
          "output_type": "execute_result",
          "data": {
            "text/plain": [
              "(<tf.Tensor: shape=(3,), dtype=string, numpy=array([b'bedroom', b'bathroom', b'garage'], dtype=object)>,\n",
              " <tf.Tensor: shape=(1,), dtype=int32, numpy=array([939700], dtype=int32)>)"
            ]
          },
          "metadata": {
            "tags": []
          },
          "execution_count": 204
        }
      ]
    },
    {
      "cell_type": "code",
      "metadata": {
        "colab": {
          "base_uri": "https://localhost:8080/"
        },
        "id": "8mFUG4PKvAYi",
        "outputId": "c4d5217d-e689-448e-9c86-ae7e24167dbe"
      },
      "source": [
        "X[0], y[0]"
      ],
      "execution_count": null,
      "outputs": [
        {
          "output_type": "execute_result",
          "data": {
            "text/plain": [
              "(-7.0, 3.0)"
            ]
          },
          "metadata": {
            "tags": []
          },
          "execution_count": 205
        }
      ]
    },
    {
      "cell_type": "code",
      "metadata": {
        "colab": {
          "base_uri": "https://localhost:8080/"
        },
        "id": "uJWCxgEbvBRh",
        "outputId": "c51801e9-3678-4f06-a610-3510336bf1ef"
      },
      "source": [
        "X[1], y[1]"
      ],
      "execution_count": null,
      "outputs": [
        {
          "output_type": "execute_result",
          "data": {
            "text/plain": [
              "(-4.0, 6.0)"
            ]
          },
          "metadata": {
            "tags": []
          },
          "execution_count": 206
        }
      ]
    },
    {
      "cell_type": "code",
      "metadata": {
        "colab": {
          "base_uri": "https://localhost:8080/"
        },
        "id": "-QoVGcd7uwpF",
        "outputId": "3096b98e-b5af-43ac-b123-c533aecf0121"
      },
      "source": [
        "input_shape = X[0].shape\n",
        "output_shape = y[0].shape\n",
        "input_shape, output_shape"
      ],
      "execution_count": null,
      "outputs": [
        {
          "output_type": "execute_result",
          "data": {
            "text/plain": [
              "((), ())"
            ]
          },
          "metadata": {
            "tags": []
          },
          "execution_count": 207
        }
      ]
    },
    {
      "cell_type": "code",
      "metadata": {
        "colab": {
          "base_uri": "https://localhost:8080/"
        },
        "id": "BA24IsQPu6xa",
        "outputId": "a4cffb42-4f8a-437c-9ca1-8053ac273ff9"
      },
      "source": [
        "X[0], y[0]"
      ],
      "execution_count": null,
      "outputs": [
        {
          "output_type": "execute_result",
          "data": {
            "text/plain": [
              "(-7.0, 3.0)"
            ]
          },
          "metadata": {
            "tags": []
          },
          "execution_count": 208
        }
      ]
    },
    {
      "cell_type": "code",
      "metadata": {
        "colab": {
          "base_uri": "https://localhost:8080/"
        },
        "id": "lrkW4T_EvdAD",
        "outputId": "b3c533b7-5255-466b-a020-8cf662501d2a"
      },
      "source": [
        "#Turn our NumPy arrays into tensors\n",
        "X = tf.cast(tf.constant(X), dtype = tf.float32)\n",
        "y = tf.cast(tf.constant(y), dtype = tf.float32)\n",
        "X, y"
      ],
      "execution_count": null,
      "outputs": [
        {
          "output_type": "execute_result",
          "data": {
            "text/plain": [
              "(<tf.Tensor: shape=(8,), dtype=float32, numpy=array([-7., -4., -1.,  2.,  5.,  8., 11., 14.], dtype=float32)>,\n",
              " <tf.Tensor: shape=(8,), dtype=float32, numpy=array([ 3.,  6.,  9., 12., 15., 18., 21., 24.], dtype=float32)>)"
            ]
          },
          "metadata": {
            "tags": []
          },
          "execution_count": 209
        }
      ]
    },
    {
      "cell_type": "code",
      "metadata": {
        "colab": {
          "base_uri": "https://localhost:8080/"
        },
        "id": "1VpngbXpwNhV",
        "outputId": "8dc59ad4-89d7-4ad3-e9d7-3c3a64435471"
      },
      "source": [
        "input_shape = X[0].shape\n",
        "output_shape = y[0].shape\n",
        "input_shape, output_shape"
      ],
      "execution_count": null,
      "outputs": [
        {
          "output_type": "execute_result",
          "data": {
            "text/plain": [
              "(TensorShape([]), TensorShape([]))"
            ]
          },
          "metadata": {
            "tags": []
          },
          "execution_count": 210
        }
      ]
    },
    {
      "cell_type": "code",
      "metadata": {
        "colab": {
          "base_uri": "https://localhost:8080/",
          "height": 286
        },
        "id": "40-l_x75wXxM",
        "outputId": "c311dab1-66d9-4bd4-c46d-29a6e468c925"
      },
      "source": [
        "plt.scatter(X,y)"
      ],
      "execution_count": null,
      "outputs": [
        {
          "output_type": "execute_result",
          "data": {
            "text/plain": [
              "<matplotlib.collections.PathCollection at 0x7f6a294c3990>"
            ]
          },
          "metadata": {
            "tags": []
          },
          "execution_count": 211
        },
        {
          "output_type": "display_data",
          "data": {
            "image/png": "[encoded data removed]",
            "text/plain": [
              "<Figure size 432x288 with 1 Axes>"
            ]
          },
          "metadata": {
            "tags": []
          }
        }
      ]
    },
    {
      "cell_type": "markdown",
      "metadata": {
        "id": "BO_uRb5VwdKT"
      },
      "source": [
        "## Steps in modelling with TensorFlow\n",
        "\n",
        "1. **Creating a model** - define the input and output layers, as well as the hidden layers of the deep learning model.\n",
        "\n",
        "2. **Compiling a model** - Define the loss function (in other words, the function which tells our how model how wrong it is) and the optimizer (tells our model how to improve the patterns its learning) and evaluation metrics (what we can use to interpret the performance of our model).\n",
        "\n",
        "3. Fitting the model - letting the model try to find patterns between X and y (features and labels)"
      ]
    },
    {
      "cell_type": "code",
      "metadata": {
        "colab": {
          "base_uri": "https://localhost:8080/"
        },
        "id": "vB4gqDdXwiaT",
        "outputId": "e9209936-a3a1-4255-9ac2-b36b11d1fe69"
      },
      "source": [
        "# Set random seed\n",
        "\n",
        "tf.random.set_seed(42)\n",
        "\n",
        "# 1. Create a model using the Sequential API\n",
        "\n",
        "model = tf.keras.Sequential()\n",
        "\n",
        "model.add(tf.keras.layers.Dense(1))\n",
        "\n",
        "# 2. Compile the model\n",
        "\n",
        "model.compile(loss=tf.keras.losses.mae,\n",
        "              optimizer=tf.keras.optimizers.SGD(), metrics=['mae'])  # mean absolute error\n",
        "\n",
        "   # Stochastic Gradient Descent.\n",
        "\n",
        "# 3. Fit the model\n",
        "\n",
        "model.fit(X, y, epochs=5)"
      ],
      "execution_count": null,
      "outputs": [
        {
          "output_type": "stream",
          "text": [
            "Epoch 1/5\n",
            "1/1 [==============================] - 0s 236ms/step - loss: 11.5048 - mae: 11.5048\n",
            "Epoch 2/5\n",
            "1/1 [==============================] - 0s 8ms/step - loss: 11.3723 - mae: 11.3723\n",
            "Epoch 3/5\n",
            "1/1 [==============================] - 0s 6ms/step - loss: 11.2398 - mae: 11.2398\n",
            "Epoch 4/5\n",
            "1/1 [==============================] - 0s 10ms/step - loss: 11.1073 - mae: 11.1073\n",
            "Epoch 5/5\n",
            "1/1 [==============================] - 0s 3ms/step - loss: 10.9748 - mae: 10.9748\n"
          ],
          "name": "stdout"
        },
        {
          "output_type": "execute_result",
          "data": {
            "text/plain": [
              "<tensorflow.python.keras.callbacks.History at 0x7f6a293f7310>"
            ]
          },
          "metadata": {
            "tags": []
          },
          "execution_count": 212
        }
      ]
    },
    {
      "cell_type": "code",
      "metadata": {
        "colab": {
          "base_uri": "https://localhost:8080/"
        },
        "id": "vkZ90bIW0Jmf",
        "outputId": "14684199-7b06-4d99-914e-f4053be41cb1"
      },
      "source": [
        "# Check out X and y\n",
        "X , y"
      ],
      "execution_count": null,
      "outputs": [
        {
          "output_type": "execute_result",
          "data": {
            "text/plain": [
              "(<tf.Tensor: shape=(8,), dtype=float32, numpy=array([-7., -4., -1.,  2.,  5.,  8., 11., 14.], dtype=float32)>,\n",
              " <tf.Tensor: shape=(8,), dtype=float32, numpy=array([ 3.,  6.,  9., 12., 15., 18., 21., 24.], dtype=float32)>)"
            ]
          },
          "metadata": {
            "tags": []
          },
          "execution_count": 213
        }
      ]
    },
    {
      "cell_type": "code",
      "metadata": {
        "id": "g9-G853X1MQt"
      },
      "source": [
        "# Try to make a prediction using our model\n",
        "y_pred = model.predict([17.0])"
      ],
      "execution_count": null,
      "outputs": []
    },
    {
      "cell_type": "code",
      "metadata": {
        "colab": {
          "base_uri": "https://localhost:8080/"
        },
        "id": "4SGA2kz61UhL",
        "outputId": "30c2e61f-bf4d-4c60-cf9d-cdc43b982158"
      },
      "source": [
        "y_pred , y_pred + 11"
      ],
      "execution_count": null,
      "outputs": [
        {
          "output_type": "execute_result",
          "data": {
            "text/plain": [
              "(array([[12.716021]], dtype=float32), array([[23.71602]], dtype=float32))"
            ]
          },
          "metadata": {
            "tags": []
          },
          "execution_count": 215
        }
      ]
    },
    {
      "cell_type": "markdown",
      "metadata": {
        "id": "CS5fHeia1158"
      },
      "source": [
        "## Improving our model\n",
        "\n",
        "We can improve our model, by altering the steps we took to create a model.\n",
        "\n",
        "1. **Creating a model** - We might add more layers, increase the number of hidden units (also called neurons) within each of the hidden layers, called the activation function of each layer.\n",
        "\n",
        "2. **Compiling a model** - We might change the optimization function or perhaps the **learning rate** of optimization function.\n",
        "\n",
        "3. **Fitting a model** - Here we might fit a model for more **epochs** (leave it training for longer) or on more data (give the model more examples to learn from)"
      ]
    },
    {
      "cell_type": "code",
      "metadata": {
        "colab": {
          "base_uri": "https://localhost:8080/"
        },
        "id": "20Dg68QG34ZF",
        "outputId": "3ca34b27-d18b-45ba-94b3-832b61771c6c"
      },
      "source": [
        "## Increasing the number of epochs\n",
        "\n",
        "# Set random seed\n",
        "\n",
        "tf.random.set_seed(42)\n",
        "\n",
        "# 1. Create a model using the Sequential API\n",
        "\n",
        "model = tf.keras.Sequential()\n",
        "\n",
        "model.add(tf.keras.layers.Dense(1))\n",
        "\n",
        "# 2. Compile the model\n",
        "\n",
        "model.compile(loss=tf.keras.losses.mae,\n",
        "              optimizer=tf.keras.optimizers.SGD(), metrics=['mae'])  # mean absolute error\n",
        "\n",
        "   # Stochastic Gradient Descent.\n",
        "\n",
        "# 3. Fit the model\n",
        "\n",
        "model.fit(X, y, epochs=100)"
      ],
      "execution_count": null,
      "outputs": [
        {
          "output_type": "stream",
          "text": [
            "Epoch 1/100\n",
            "1/1 [==============================] - 0s 264ms/step - loss: 11.5048 - mae: 11.5048\n",
            "Epoch 2/100\n",
            "1/1 [==============================] - 0s 5ms/step - loss: 11.3723 - mae: 11.3723\n",
            "Epoch 3/100\n",
            "1/1 [==============================] - 0s 4ms/step - loss: 11.2398 - mae: 11.2398\n",
            "Epoch 4/100\n",
            "1/1 [==============================] - 0s 4ms/step - loss: 11.1073 - mae: 11.1073\n",
            "Epoch 5/100\n",
            "1/1 [==============================] - 0s 4ms/step - loss: 10.9748 - mae: 10.9748\n",
            "Epoch 6/100\n",
            "1/1 [==============================] - 0s 5ms/step - loss: 10.8423 - mae: 10.8423\n",
            "Epoch 7/100\n",
            "1/1 [==============================] - 0s 3ms/step - loss: 10.7098 - mae: 10.7098\n",
            "Epoch 8/100\n",
            "1/1 [==============================] - 0s 4ms/step - loss: 10.5773 - mae: 10.5773\n",
            "Epoch 9/100\n",
            "1/1 [==============================] - 0s 3ms/step - loss: 10.4448 - mae: 10.4448\n",
            "Epoch 10/100\n",
            "1/1 [==============================] - 0s 3ms/step - loss: 10.3123 - mae: 10.3123\n",
            "Epoch 11/100\n",
            "1/1 [==============================] - 0s 3ms/step - loss: 10.1798 - mae: 10.1798\n",
            "Epoch 12/100\n",
            "1/1 [==============================] - 0s 3ms/step - loss: 10.0473 - mae: 10.0473\n",
            "Epoch 13/100\n",
            "1/1 [==============================] - 0s 3ms/step - loss: 9.9148 - mae: 9.9148\n",
            "Epoch 14/100\n",
            "1/1 [==============================] - 0s 7ms/step - loss: 9.7823 - mae: 9.7823\n",
            "Epoch 15/100\n",
            "1/1 [==============================] - 0s 3ms/step - loss: 9.6498 - mae: 9.6498\n",
            "Epoch 16/100\n",
            "1/1 [==============================] - 0s 3ms/step - loss: 9.5173 - mae: 9.5173\n",
            "Epoch 17/100\n",
            "1/1 [==============================] - 0s 3ms/step - loss: 9.3848 - mae: 9.3848\n",
            "Epoch 18/100\n",
            "1/1 [==============================] - 0s 3ms/step - loss: 9.2523 - mae: 9.2523\n",
            "Epoch 19/100\n",
            "1/1 [==============================] - 0s 3ms/step - loss: 9.1198 - mae: 9.1198\n",
            "Epoch 20/100\n",
            "1/1 [==============================] - 0s 3ms/step - loss: 8.9873 - mae: 8.9873\n",
            "Epoch 21/100\n",
            "1/1 [==============================] - 0s 3ms/step - loss: 8.8548 - mae: 8.8548\n",
            "Epoch 22/100\n",
            "1/1 [==============================] - 0s 3ms/step - loss: 8.7223 - mae: 8.7223\n",
            "Epoch 23/100\n",
            "1/1 [==============================] - 0s 3ms/step - loss: 8.5898 - mae: 8.5898\n",
            "Epoch 24/100\n",
            "1/1 [==============================] - 0s 3ms/step - loss: 8.4573 - mae: 8.4573\n",
            "Epoch 25/100\n",
            "1/1 [==============================] - 0s 3ms/step - loss: 8.3248 - mae: 8.3248\n",
            "Epoch 26/100\n",
            "1/1 [==============================] - 0s 9ms/step - loss: 8.1923 - mae: 8.1923\n",
            "Epoch 27/100\n",
            "1/1 [==============================] - 0s 28ms/step - loss: 8.0598 - mae: 8.0598\n",
            "Epoch 28/100\n",
            "1/1 [==============================] - 0s 10ms/step - loss: 7.9273 - mae: 7.9273\n",
            "Epoch 29/100\n",
            "1/1 [==============================] - 0s 3ms/step - loss: 7.7948 - mae: 7.7948\n",
            "Epoch 30/100\n",
            "1/1 [==============================] - 0s 3ms/step - loss: 7.6623 - mae: 7.6623\n",
            "Epoch 31/100\n",
            "1/1 [==============================] - 0s 4ms/step - loss: 7.5298 - mae: 7.5298\n",
            "Epoch 32/100\n",
            "1/1 [==============================] - 0s 5ms/step - loss: 7.3973 - mae: 7.3973\n",
            "Epoch 33/100\n",
            "1/1 [==============================] - 0s 3ms/step - loss: 7.2648 - mae: 7.2648\n",
            "Epoch 34/100\n",
            "1/1 [==============================] - 0s 5ms/step - loss: 7.2525 - mae: 7.2525\n",
            "Epoch 35/100\n",
            "1/1 [==============================] - 0s 3ms/step - loss: 7.2469 - mae: 7.2469\n",
            "Epoch 36/100\n",
            "1/1 [==============================] - 0s 13ms/step - loss: 7.2413 - mae: 7.2413\n",
            "Epoch 37/100\n",
            "1/1 [==============================] - 0s 7ms/step - loss: 7.2356 - mae: 7.2356\n",
            "Epoch 38/100\n",
            "1/1 [==============================] - 0s 5ms/step - loss: 7.2300 - mae: 7.2300\n",
            "Epoch 39/100\n",
            "1/1 [==============================] - 0s 4ms/step - loss: 7.2244 - mae: 7.2244\n",
            "Epoch 40/100\n",
            "1/1 [==============================] - 0s 3ms/step - loss: 7.2188 - mae: 7.2188\n",
            "Epoch 41/100\n",
            "1/1 [==============================] - 0s 4ms/step - loss: 7.2131 - mae: 7.2131\n",
            "Epoch 42/100\n",
            "1/1 [==============================] - 0s 5ms/step - loss: 7.2075 - mae: 7.2075\n",
            "Epoch 43/100\n",
            "1/1 [==============================] - 0s 5ms/step - loss: 7.2019 - mae: 7.2019\n",
            "Epoch 44/100\n",
            "1/1 [==============================] - 0s 9ms/step - loss: 7.1963 - mae: 7.1963\n",
            "Epoch 45/100\n",
            "1/1 [==============================] - 0s 3ms/step - loss: 7.1906 - mae: 7.1906\n",
            "Epoch 46/100\n",
            "1/1 [==============================] - 0s 3ms/step - loss: 7.1850 - mae: 7.1850\n",
            "Epoch 47/100\n",
            "1/1 [==============================] - 0s 4ms/step - loss: 7.1794 - mae: 7.1794\n",
            "Epoch 48/100\n",
            "1/1 [==============================] - 0s 3ms/step - loss: 7.1738 - mae: 7.1738\n",
            "Epoch 49/100\n",
            "1/1 [==============================] - 0s 5ms/step - loss: 7.1681 - mae: 7.1681\n",
            "Epoch 50/100\n",
            "1/1 [==============================] - 0s 3ms/step - loss: 7.1625 - mae: 7.1625\n",
            "Epoch 51/100\n",
            "1/1 [==============================] - 0s 6ms/step - loss: 7.1569 - mae: 7.1569\n",
            "Epoch 52/100\n",
            "1/1 [==============================] - 0s 3ms/step - loss: 7.1512 - mae: 7.1512\n",
            "Epoch 53/100\n",
            "1/1 [==============================] - 0s 3ms/step - loss: 7.1456 - mae: 7.1456\n",
            "Epoch 54/100\n",
            "1/1 [==============================] - 0s 3ms/step - loss: 7.1400 - mae: 7.1400\n",
            "Epoch 55/100\n",
            "1/1 [==============================] - 0s 6ms/step - loss: 7.1344 - mae: 7.1344\n",
            "Epoch 56/100\n",
            "1/1 [==============================] - 0s 6ms/step - loss: 7.1287 - mae: 7.1287\n",
            "Epoch 57/100\n",
            "1/1 [==============================] - 0s 5ms/step - loss: 7.1231 - mae: 7.1231\n",
            "Epoch 58/100\n",
            "1/1 [==============================] - 0s 6ms/step - loss: 7.1175 - mae: 7.1175\n",
            "Epoch 59/100\n",
            "1/1 [==============================] - 0s 4ms/step - loss: 7.1119 - mae: 7.1119\n",
            "Epoch 60/100\n",
            "1/1 [==============================] - 0s 3ms/step - loss: 7.1063 - mae: 7.1063\n",
            "Epoch 61/100\n",
            "1/1 [==============================] - 0s 11ms/step - loss: 7.1006 - mae: 7.1006\n",
            "Epoch 62/100\n",
            "1/1 [==============================] - 0s 3ms/step - loss: 7.0950 - mae: 7.0950\n",
            "Epoch 63/100\n",
            "1/1 [==============================] - 0s 4ms/step - loss: 7.0894 - mae: 7.0894\n",
            "Epoch 64/100\n",
            "1/1 [==============================] - 0s 4ms/step - loss: 7.0838 - mae: 7.0838\n",
            "Epoch 65/100\n",
            "1/1 [==============================] - 0s 3ms/step - loss: 7.0781 - mae: 7.0781\n",
            "Epoch 66/100\n",
            "1/1 [==============================] - 0s 3ms/step - loss: 7.0725 - mae: 7.0725\n",
            "Epoch 67/100\n",
            "1/1 [==============================] - 0s 4ms/step - loss: 7.0669 - mae: 7.0669\n",
            "Epoch 68/100\n",
            "1/1 [==============================] - 0s 6ms/step - loss: 7.0613 - mae: 7.0613\n",
            "Epoch 69/100\n",
            "1/1 [==============================] - 0s 4ms/step - loss: 7.0556 - mae: 7.0556\n",
            "Epoch 70/100\n",
            "1/1 [==============================] - 0s 11ms/step - loss: 7.0500 - mae: 7.0500\n",
            "Epoch 71/100\n",
            "1/1 [==============================] - 0s 5ms/step - loss: 7.0444 - mae: 7.0444\n",
            "Epoch 72/100\n",
            "1/1 [==============================] - 0s 10ms/step - loss: 7.0388 - mae: 7.0388\n",
            "Epoch 73/100\n",
            "1/1 [==============================] - 0s 14ms/step - loss: 7.0331 - mae: 7.0331\n",
            "Epoch 74/100\n",
            "1/1 [==============================] - 0s 11ms/step - loss: 7.0275 - mae: 7.0275\n",
            "Epoch 75/100\n",
            "1/1 [==============================] - 0s 6ms/step - loss: 7.0219 - mae: 7.0219\n",
            "Epoch 76/100\n",
            "1/1 [==============================] - 0s 15ms/step - loss: 7.0163 - mae: 7.0163\n",
            "Epoch 77/100\n",
            "1/1 [==============================] - 0s 7ms/step - loss: 7.0106 - mae: 7.0106\n",
            "Epoch 78/100\n",
            "1/1 [==============================] - 0s 3ms/step - loss: 7.0050 - mae: 7.0050\n",
            "Epoch 79/100\n",
            "1/1 [==============================] - 0s 5ms/step - loss: 6.9994 - mae: 6.9994\n",
            "Epoch 80/100\n",
            "1/1 [==============================] - 0s 4ms/step - loss: 6.9938 - mae: 6.9938\n",
            "Epoch 81/100\n",
            "1/1 [==============================] - 0s 3ms/step - loss: 6.9881 - mae: 6.9881\n",
            "Epoch 82/100\n",
            "1/1 [==============================] - 0s 4ms/step - loss: 6.9825 - mae: 6.9825\n",
            "Epoch 83/100\n",
            "1/1 [==============================] - 0s 5ms/step - loss: 6.9769 - mae: 6.9769\n",
            "Epoch 84/100\n",
            "1/1 [==============================] - 0s 4ms/step - loss: 6.9713 - mae: 6.9713\n",
            "Epoch 85/100\n",
            "1/1 [==============================] - 0s 6ms/step - loss: 6.9656 - mae: 6.9656\n",
            "Epoch 86/100\n",
            "1/1 [==============================] - 0s 4ms/step - loss: 6.9600 - mae: 6.9600\n",
            "Epoch 87/100\n",
            "1/1 [==============================] - 0s 7ms/step - loss: 6.9544 - mae: 6.9544\n",
            "Epoch 88/100\n",
            "1/1 [==============================] - 0s 6ms/step - loss: 6.9488 - mae: 6.9488\n",
            "Epoch 89/100\n",
            "1/1 [==============================] - 0s 5ms/step - loss: 6.9431 - mae: 6.9431\n",
            "Epoch 90/100\n",
            "1/1 [==============================] - 0s 9ms/step - loss: 6.9375 - mae: 6.9375\n",
            "Epoch 91/100\n",
            "1/1 [==============================] - 0s 6ms/step - loss: 6.9319 - mae: 6.9319\n",
            "Epoch 92/100\n",
            "1/1 [==============================] - 0s 10ms/step - loss: 6.9263 - mae: 6.9263\n",
            "Epoch 93/100\n",
            "1/1 [==============================] - 0s 5ms/step - loss: 6.9206 - mae: 6.9206\n",
            "Epoch 94/100\n",
            "1/1 [==============================] - 0s 26ms/step - loss: 6.9150 - mae: 6.9150\n",
            "Epoch 95/100\n",
            "1/1 [==============================] - 0s 4ms/step - loss: 6.9094 - mae: 6.9094\n",
            "Epoch 96/100\n",
            "1/1 [==============================] - 0s 3ms/step - loss: 6.9038 - mae: 6.9038\n",
            "Epoch 97/100\n",
            "1/1 [==============================] - 0s 4ms/step - loss: 6.8981 - mae: 6.8981\n",
            "Epoch 98/100\n",
            "1/1 [==============================] - 0s 7ms/step - loss: 6.8925 - mae: 6.8925\n",
            "Epoch 99/100\n",
            "1/1 [==============================] - 0s 3ms/step - loss: 6.8869 - mae: 6.8869\n",
            "Epoch 100/100\n",
            "1/1 [==============================] - 0s 7ms/step - loss: 6.8813 - mae: 6.8813\n"
          ],
          "name": "stdout"
        },
        {
          "output_type": "execute_result",
          "data": {
            "text/plain": [
              "<tensorflow.python.keras.callbacks.History at 0x7f6a29e8fa90>"
            ]
          },
          "metadata": {
            "tags": []
          },
          "execution_count": 216
        }
      ]
    },
    {
      "cell_type": "code",
      "metadata": {
        "id": "6tsnVekPKssN"
      },
      "source": [
        "# Try to make a prediction using our model\n",
        "y_pred = model.predict([17.0])"
      ],
      "execution_count": null,
      "outputs": []
    },
    {
      "cell_type": "code",
      "metadata": {
        "colab": {
          "base_uri": "https://localhost:8080/"
        },
        "id": "UgejQd52K8R0",
        "outputId": "a934b3bf-79cb-4e21-e497-788ced7bd30d"
      },
      "source": [
        "y_pred #much better than before"
      ],
      "execution_count": null,
      "outputs": [
        {
          "output_type": "execute_result",
          "data": {
            "text/plain": [
              "array([[30.158512]], dtype=float32)"
            ]
          },
          "metadata": {
            "tags": []
          },
          "execution_count": 218
        }
      ]
    },
    {
      "cell_type": "code",
      "metadata": {
        "colab": {
          "base_uri": "https://localhost:8080/"
        },
        "id": "OMeLy9KmK9f6",
        "outputId": "01ecf93b-7381-4079-c838-8672ed55703b"
      },
      "source": [
        "# Let us try more things now to improve the model\n",
        "\n",
        "# 1. Create a model with Sequential API\n",
        "\n",
        "model = tf.keras.Sequential()\n",
        "\n",
        "model.add(tf.keras.layers.Dense(100, activation = 'relu'))\n",
        "\n",
        "model.add(tf.keras.layers.Dense(1))\n",
        "\n",
        "# 2. Compile our model\n",
        "\n",
        "model.compile(loss=tf.keras.losses.mae,\n",
        "              optimizer=tf.keras.optimizers.Adam(learning_rate=0.1),\n",
        "              metrics=['mae'])\n",
        "\n",
        "# 3. Compile the model\n",
        "\n",
        "model.fit(X, y, epochs=100)"
      ],
      "execution_count": null,
      "outputs": [
        {
          "output_type": "stream",
          "text": [
            "Epoch 1/100\n",
            "1/1 [==============================] - 0s 307ms/step - loss: 13.9468 - mae: 13.9468\n",
            "Epoch 2/100\n",
            "1/1 [==============================] - 0s 4ms/step - loss: 5.6308 - mae: 5.6308\n",
            "Epoch 3/100\n",
            "1/1 [==============================] - 0s 6ms/step - loss: 8.5388 - mae: 8.5388\n",
            "Epoch 4/100\n",
            "1/1 [==============================] - 0s 5ms/step - loss: 8.0333 - mae: 8.0333\n",
            "Epoch 5/100\n",
            "1/1 [==============================] - 0s 4ms/step - loss: 5.1341 - mae: 5.1341\n",
            "Epoch 6/100\n",
            "1/1 [==============================] - 0s 5ms/step - loss: 3.8633 - mae: 3.8633\n",
            "Epoch 7/100\n",
            "1/1 [==============================] - 0s 4ms/step - loss: 5.7742 - mae: 5.7742\n",
            "Epoch 8/100\n",
            "1/1 [==============================] - 0s 6ms/step - loss: 5.8511 - mae: 5.8511\n",
            "Epoch 9/100\n",
            "1/1 [==============================] - 0s 5ms/step - loss: 4.4557 - mae: 4.4557\n",
            "Epoch 10/100\n",
            "1/1 [==============================] - 0s 8ms/step - loss: 3.7069 - mae: 3.7069\n",
            "Epoch 11/100\n",
            "1/1 [==============================] - 0s 7ms/step - loss: 4.5971 - mae: 4.5971\n",
            "Epoch 12/100\n",
            "1/1 [==============================] - 0s 5ms/step - loss: 4.1340 - mae: 4.1340\n",
            "Epoch 13/100\n",
            "1/1 [==============================] - 0s 3ms/step - loss: 3.2568 - mae: 3.2568\n",
            "Epoch 14/100\n",
            "1/1 [==============================] - 0s 5ms/step - loss: 3.6257 - mae: 3.6257\n",
            "Epoch 15/100\n",
            "1/1 [==============================] - 0s 4ms/step - loss: 2.9379 - mae: 2.9379\n",
            "Epoch 16/100\n",
            "1/1 [==============================] - 0s 4ms/step - loss: 3.0616 - mae: 3.0616\n",
            "Epoch 17/100\n",
            "1/1 [==============================] - 0s 4ms/step - loss: 2.8746 - mae: 2.8746\n",
            "Epoch 18/100\n",
            "1/1 [==============================] - 0s 5ms/step - loss: 1.8429 - mae: 1.8429\n",
            "Epoch 19/100\n",
            "1/1 [==============================] - 0s 4ms/step - loss: 1.8414 - mae: 1.8414\n",
            "Epoch 20/100\n",
            "1/1 [==============================] - 0s 4ms/step - loss: 0.5662 - mae: 0.5662\n",
            "Epoch 21/100\n",
            "1/1 [==============================] - 0s 4ms/step - loss: 1.2735 - mae: 1.2735\n",
            "Epoch 22/100\n",
            "1/1 [==============================] - 0s 4ms/step - loss: 1.0837 - mae: 1.0837\n",
            "Epoch 23/100\n",
            "1/1 [==============================] - 0s 4ms/step - loss: 1.6545 - mae: 1.6545\n",
            "Epoch 24/100\n",
            "1/1 [==============================] - 0s 4ms/step - loss: 1.4990 - mae: 1.4990\n",
            "Epoch 25/100\n",
            "1/1 [==============================] - 0s 6ms/step - loss: 1.0596 - mae: 1.0596\n",
            "Epoch 26/100\n",
            "1/1 [==============================] - 0s 4ms/step - loss: 0.9867 - mae: 0.9867\n",
            "Epoch 27/100\n",
            "1/1 [==============================] - 0s 4ms/step - loss: 1.2209 - mae: 1.2209\n",
            "Epoch 28/100\n",
            "1/1 [==============================] - 0s 4ms/step - loss: 0.6063 - mae: 0.6063\n",
            "Epoch 29/100\n",
            "1/1 [==============================] - 0s 4ms/step - loss: 0.5471 - mae: 0.5471\n",
            "Epoch 30/100\n",
            "1/1 [==============================] - 0s 4ms/step - loss: 0.8773 - mae: 0.8773\n",
            "Epoch 31/100\n",
            "1/1 [==============================] - 0s 4ms/step - loss: 0.7229 - mae: 0.7229\n",
            "Epoch 32/100\n",
            "1/1 [==============================] - 0s 10ms/step - loss: 1.0312 - mae: 1.0312\n",
            "Epoch 33/100\n",
            "1/1 [==============================] - 0s 5ms/step - loss: 0.6022 - mae: 0.6022\n",
            "Epoch 34/100\n",
            "1/1 [==============================] - 0s 5ms/step - loss: 0.9565 - mae: 0.9565\n",
            "Epoch 35/100\n",
            "1/1 [==============================] - 0s 6ms/step - loss: 0.6271 - mae: 0.6271\n",
            "Epoch 36/100\n",
            "1/1 [==============================] - 0s 4ms/step - loss: 1.1277 - mae: 1.1277\n",
            "Epoch 37/100\n",
            "1/1 [==============================] - 0s 4ms/step - loss: 0.9582 - mae: 0.9582\n",
            "Epoch 38/100\n",
            "1/1 [==============================] - 0s 5ms/step - loss: 0.7532 - mae: 0.7532\n",
            "Epoch 39/100\n",
            "1/1 [==============================] - 0s 4ms/step - loss: 0.8627 - mae: 0.8627\n",
            "Epoch 40/100\n",
            "1/1 [==============================] - 0s 4ms/step - loss: 0.9813 - mae: 0.9813\n",
            "Epoch 41/100\n",
            "1/1 [==============================] - 0s 4ms/step - loss: 0.8778 - mae: 0.8778\n",
            "Epoch 42/100\n",
            "1/1 [==============================] - 0s 3ms/step - loss: 0.4445 - mae: 0.4445\n",
            "Epoch 43/100\n",
            "1/1 [==============================] - 0s 4ms/step - loss: 0.2769 - mae: 0.2769\n",
            "Epoch 44/100\n",
            "1/1 [==============================] - 0s 3ms/step - loss: 0.6310 - mae: 0.6310\n",
            "Epoch 45/100\n",
            "1/1 [==============================] - 0s 4ms/step - loss: 0.3484 - mae: 0.3484\n",
            "Epoch 46/100\n",
            "1/1 [==============================] - 0s 4ms/step - loss: 0.3114 - mae: 0.3114\n",
            "Epoch 47/100\n",
            "1/1 [==============================] - 0s 4ms/step - loss: 0.2814 - mae: 0.2814\n",
            "Epoch 48/100\n",
            "1/1 [==============================] - 0s 4ms/step - loss: 0.2799 - mae: 0.2799\n",
            "Epoch 49/100\n",
            "1/1 [==============================] - 0s 5ms/step - loss: 0.6918 - mae: 0.6918\n",
            "Epoch 50/100\n",
            "1/1 [==============================] - 0s 5ms/step - loss: 0.1425 - mae: 0.1425\n",
            "Epoch 51/100\n",
            "1/1 [==============================] - 0s 5ms/step - loss: 1.5208 - mae: 1.5208\n",
            "Epoch 52/100\n",
            "1/1 [==============================] - 0s 7ms/step - loss: 1.6428 - mae: 1.6428\n",
            "Epoch 53/100\n",
            "1/1 [==============================] - 0s 5ms/step - loss: 0.4434 - mae: 0.4434\n",
            "Epoch 54/100\n",
            "1/1 [==============================] - 0s 7ms/step - loss: 1.6013 - mae: 1.6013\n",
            "Epoch 55/100\n",
            "1/1 [==============================] - 0s 5ms/step - loss: 2.3192 - mae: 2.3192\n",
            "Epoch 56/100\n",
            "1/1 [==============================] - 0s 5ms/step - loss: 2.0802 - mae: 2.0802\n",
            "Epoch 57/100\n",
            "1/1 [==============================] - 0s 6ms/step - loss: 0.9589 - mae: 0.9589\n",
            "Epoch 58/100\n",
            "1/1 [==============================] - 0s 7ms/step - loss: 1.2170 - mae: 1.2170\n",
            "Epoch 59/100\n",
            "1/1 [==============================] - 0s 5ms/step - loss: 1.9107 - mae: 1.9107\n",
            "Epoch 60/100\n",
            "1/1 [==============================] - 0s 5ms/step - loss: 1.3306 - mae: 1.3306\n",
            "Epoch 61/100\n",
            "1/1 [==============================] - 0s 5ms/step - loss: 0.4644 - mae: 0.4644\n",
            "Epoch 62/100\n",
            "1/1 [==============================] - 0s 6ms/step - loss: 0.6882 - mae: 0.6882\n",
            "Epoch 63/100\n",
            "1/1 [==============================] - 0s 5ms/step - loss: 0.2622 - mae: 0.2622\n",
            "Epoch 64/100\n",
            "1/1 [==============================] - 0s 7ms/step - loss: 0.5846 - mae: 0.5846\n",
            "Epoch 65/100\n",
            "1/1 [==============================] - 0s 17ms/step - loss: 0.2709 - mae: 0.2709\n",
            "Epoch 66/100\n",
            "1/1 [==============================] - 0s 24ms/step - loss: 0.2930 - mae: 0.2930\n",
            "Epoch 67/100\n",
            "1/1 [==============================] - 0s 7ms/step - loss: 0.3083 - mae: 0.3083\n",
            "Epoch 68/100\n",
            "1/1 [==============================] - 0s 5ms/step - loss: 0.2487 - mae: 0.2487\n",
            "Epoch 69/100\n",
            "1/1 [==============================] - 0s 6ms/step - loss: 0.5931 - mae: 0.5931\n",
            "Epoch 70/100\n",
            "1/1 [==============================] - 0s 5ms/step - loss: 0.1638 - mae: 0.1638\n",
            "Epoch 71/100\n",
            "1/1 [==============================] - 0s 5ms/step - loss: 1.2686 - mae: 1.2686\n",
            "Epoch 72/100\n",
            "1/1 [==============================] - 0s 6ms/step - loss: 1.4780 - mae: 1.4780\n",
            "Epoch 73/100\n",
            "1/1 [==============================] - 0s 5ms/step - loss: 0.9672 - mae: 0.9672\n",
            "Epoch 74/100\n",
            "1/1 [==============================] - 0s 11ms/step - loss: 0.5415 - mae: 0.5415\n",
            "Epoch 75/100\n",
            "1/1 [==============================] - 0s 4ms/step - loss: 0.8166 - mae: 0.8166\n",
            "Epoch 76/100\n",
            "1/1 [==============================] - 0s 4ms/step - loss: 0.1464 - mae: 0.1464\n",
            "Epoch 77/100\n",
            "1/1 [==============================] - 0s 4ms/step - loss: 0.3701 - mae: 0.3701\n",
            "Epoch 78/100\n",
            "1/1 [==============================] - 0s 8ms/step - loss: 0.3109 - mae: 0.3109\n",
            "Epoch 79/100\n",
            "1/1 [==============================] - 0s 4ms/step - loss: 0.3347 - mae: 0.3347\n",
            "Epoch 80/100\n",
            "1/1 [==============================] - 0s 4ms/step - loss: 0.4427 - mae: 0.4427\n",
            "Epoch 81/100\n",
            "1/1 [==============================] - 0s 4ms/step - loss: 0.3395 - mae: 0.3395\n",
            "Epoch 82/100\n",
            "1/1 [==============================] - 0s 4ms/step - loss: 0.1310 - mae: 0.1310\n",
            "Epoch 83/100\n",
            "1/1 [==============================] - 0s 6ms/step - loss: 0.3693 - mae: 0.3693\n",
            "Epoch 84/100\n",
            "1/1 [==============================] - 0s 6ms/step - loss: 0.2933 - mae: 0.2933\n",
            "Epoch 85/100\n",
            "1/1 [==============================] - 0s 4ms/step - loss: 0.2889 - mae: 0.2889\n",
            "Epoch 86/100\n",
            "1/1 [==============================] - 0s 5ms/step - loss: 0.1642 - mae: 0.1642\n",
            "Epoch 87/100\n",
            "1/1 [==============================] - 0s 4ms/step - loss: 0.2371 - mae: 0.2371\n",
            "Epoch 88/100\n",
            "1/1 [==============================] - 0s 7ms/step - loss: 0.2431 - mae: 0.2431\n",
            "Epoch 89/100\n",
            "1/1 [==============================] - 0s 7ms/step - loss: 0.4970 - mae: 0.4970\n",
            "Epoch 90/100\n",
            "1/1 [==============================] - 0s 4ms/step - loss: 0.3579 - mae: 0.3579\n",
            "Epoch 91/100\n",
            "1/1 [==============================] - 0s 4ms/step - loss: 0.2289 - mae: 0.2289\n",
            "Epoch 92/100\n",
            "1/1 [==============================] - 0s 7ms/step - loss: 0.5734 - mae: 0.5734\n",
            "Epoch 93/100\n",
            "1/1 [==============================] - 0s 4ms/step - loss: 0.5273 - mae: 0.5273\n",
            "Epoch 94/100\n",
            "1/1 [==============================] - 0s 4ms/step - loss: 0.5575 - mae: 0.5575\n",
            "Epoch 95/100\n",
            "1/1 [==============================] - 0s 6ms/step - loss: 0.1697 - mae: 0.1697\n",
            "Epoch 96/100\n",
            "1/1 [==============================] - 0s 20ms/step - loss: 0.5973 - mae: 0.5973\n",
            "Epoch 97/100\n",
            "1/1 [==============================] - 0s 5ms/step - loss: 0.4713 - mae: 0.4713\n",
            "Epoch 98/100\n",
            "1/1 [==============================] - 0s 4ms/step - loss: 0.3242 - mae: 0.3242\n",
            "Epoch 99/100\n",
            "1/1 [==============================] - 0s 6ms/step - loss: 0.5095 - mae: 0.5095\n",
            "Epoch 100/100\n",
            "1/1 [==============================] - 0s 4ms/step - loss: 0.4581 - mae: 0.4581\n"
          ],
          "name": "stdout"
        },
        {
          "output_type": "execute_result",
          "data": {
            "text/plain": [
              "<tensorflow.python.keras.callbacks.History at 0x7f6a2c25ffd0>"
            ]
          },
          "metadata": {
            "tags": []
          },
          "execution_count": 219
        }
      ]
    },
    {
      "cell_type": "code",
      "metadata": {
        "id": "SjODEPkcNGUt"
      },
      "source": [
        "# Try to make a prediction using our model\n",
        "\n",
        "y_pred = model.predict([17.0]) "
      ],
      "execution_count": null,
      "outputs": []
    },
    {
      "cell_type": "code",
      "metadata": {
        "colab": {
          "base_uri": "https://localhost:8080/"
        },
        "id": "gyiJQn3JNPAO",
        "outputId": "1216ec94-b65e-43e0-b4b1-3216ee1ff773"
      },
      "source": [
        "y_pred ##The model is overfitting and therefore it is giving a poor result."
      ],
      "execution_count": null,
      "outputs": [
        {
          "output_type": "execute_result",
          "data": {
            "text/plain": [
              "array([[28.32901]], dtype=float32)"
            ]
          },
          "metadata": {
            "tags": []
          },
          "execution_count": 221
        }
      ]
    },
    {
      "cell_type": "markdown",
      "metadata": {
        "id": "Y1et5U7aN0Is"
      },
      "source": [
        "### Evaluating a model \n",
        "\n",
        "A typical workflow you'll go through when building neural networks is:\n",
        "\n",
        "Build a model -> evaluate it -> build (tweak) a model -> evaulate it -> build (tweak) a model -> evaluate it...\n",
        "\n",
        "The tweaking comes from maybe not building a model from scratch but adjusting an existing one."
      ]
    },
    {
      "cell_type": "markdown",
      "metadata": {
        "id": "gf_INRqlPhDP"
      },
      "source": [
        "When it comes to evaluation, you'll want to remember the words: \"visualize, visualize, visualize.\"\n",
        "\n",
        "This is because you're probably better looking at something (doing) than you are thinking about something.\n",
        "\n",
        "It's a good idea to visualize:\n",
        "\n",
        "**The data** - what data are you working with? What does it look like?\n",
        "\n",
        "**The model itself** - what does the architecture look like? What are the different shapes?\n",
        "\n",
        "**The training of a model** - how does a model perform while it learns?\n",
        "\n",
        "**The predictions of a model** - how do the predictions of a model line up against the ground truth (the original labels)?\n",
        "\n",
        "Let's start by visualizing the model.\n",
        "\n",
        "But first, we'll create a little bit of a bigger dataset and a new model we can use (it'll be the same as before, but the more practice the better)"
      ]
    },
    {
      "cell_type": "code",
      "metadata": {
        "colab": {
          "base_uri": "https://localhost:8080/"
        },
        "id": "qUBM6A3uW0o5",
        "outputId": "abeaab3c-5d83-4655-bf00-331380f32685"
      },
      "source": [
        "# Make a bigger dataset\n",
        "X = tf.range(-100,100,4)\n",
        "X"
      ],
      "execution_count": null,
      "outputs": [
        {
          "output_type": "execute_result",
          "data": {
            "text/plain": [
              "<tf.Tensor: shape=(50,), dtype=int32, numpy=\n",
              "array([-100,  -96,  -92,  -88,  -84,  -80,  -76,  -72,  -68,  -64,  -60,\n",
              "        -56,  -52,  -48,  -44,  -40,  -36,  -32,  -28,  -24,  -20,  -16,\n",
              "        -12,   -8,   -4,    0,    4,    8,   12,   16,   20,   24,   28,\n",
              "         32,   36,   40,   44,   48,   52,   56,   60,   64,   68,   72,\n",
              "         76,   80,   84,   88,   92,   96], dtype=int32)>"
            ]
          },
          "metadata": {
            "tags": []
          },
          "execution_count": 222
        }
      ]
    },
    {
      "cell_type": "code",
      "metadata": {
        "colab": {
          "base_uri": "https://localhost:8080/"
        },
        "id": "Ap5MkMl5XXY0",
        "outputId": "1dc8676c-88a6-4810-9e82-2b8691672a48"
      },
      "source": [
        "# Make labels for the dataset\n",
        "y = X + 10\n",
        "y"
      ],
      "execution_count": null,
      "outputs": [
        {
          "output_type": "execute_result",
          "data": {
            "text/plain": [
              "<tf.Tensor: shape=(50,), dtype=int32, numpy=\n",
              "array([-90, -86, -82, -78, -74, -70, -66, -62, -58, -54, -50, -46, -42,\n",
              "       -38, -34, -30, -26, -22, -18, -14, -10,  -6,  -2,   2,   6,  10,\n",
              "        14,  18,  22,  26,  30,  34,  38,  42,  46,  50,  54,  58,  62,\n",
              "        66,  70,  74,  78,  82,  86,  90,  94,  98, 102, 106], dtype=int32)>"
            ]
          },
          "metadata": {
            "tags": []
          },
          "execution_count": 223
        }
      ]
    },
    {
      "cell_type": "code",
      "metadata": {
        "colab": {
          "base_uri": "https://localhost:8080/",
          "height": 265
        },
        "id": "sVH_5eWjY1u2",
        "outputId": "dd272e08-4dec-48cf-b64d-2b16ae7c445a"
      },
      "source": [
        "# Visualize the data\n",
        "plt.scatter(X,y);"
      ],
      "execution_count": null,
      "outputs": [
        {
          "output_type": "display_data",
          "data": {
            "image/png": "[encoded data removed]",
            "text/plain": [
              "<Figure size 432x288 with 1 Axes>"
            ]
          },
          "metadata": {
            "tags": []
          }
        }
      ]
    },
    {
      "cell_type": "markdown",
      "metadata": {
        "id": "u-4sn3yYZ9WM"
      },
      "source": [
        "### The 3 sets...\n",
        "\n",
        "Each set serves a specific purpose:\n",
        "\n",
        "**Training set** - the model learns from this data, which is typically 70-80% of the total data available (like the course materials you study during the semester).\n",
        "\n",
        "**Validation set** - the model gets tuned on this data, which is typically 10-15% of the total data available (like the practice exam you take before the final exam).\n",
        "\n",
        "**Test set** - the model gets evaluated on this data to test what it has learned, it's typically 10-15% of the total data available (like the final exam you take at the end of the semester).\n",
        "\n",
        "For now, we'll just use a training and test set, this means we'll have a dataset for our model to learn on as well as be evaluated on.\n",
        "\n",
        "We can create them by splitting our X and y arrays.\n",
        "\n",
        "🔑 Note: When dealing with real-world data, this step is typically done right at the start of a project (the test set should always be kept separate from all other data). We want our model to learn on training data and then evaluate it on test data to get an indication of how well it generalizes to unseen examples."
      ]
    },
    {
      "cell_type": "code",
      "metadata": {
        "colab": {
          "base_uri": "https://localhost:8080/"
        },
        "id": "dQYdx5JXbTW9",
        "outputId": "da20a716-a2a5-44ff-81df-64c5f710f5d9"
      },
      "source": [
        "#Check the number of samples we have\n",
        "len(X)"
      ],
      "execution_count": null,
      "outputs": [
        {
          "output_type": "execute_result",
          "data": {
            "text/plain": [
              "50"
            ]
          },
          "metadata": {
            "tags": []
          },
          "execution_count": 225
        }
      ]
    },
    {
      "cell_type": "code",
      "metadata": {
        "colab": {
          "base_uri": "https://localhost:8080/"
        },
        "id": "ltnqTN0LbZRI",
        "outputId": "d69af9c0-d366-4873-c8cf-80624d63fd96"
      },
      "source": [
        "#Split the data into training and test sets\n",
        "\n",
        "X_train = X[:40] #First 40 examples (80% of the data)\n",
        "y_train = y[:40]\n",
        "\n",
        "X_test = X[40:] # Last 10 Examples (20% of data)\n",
        "y_test = y[40:]\n",
        "\n",
        "len(X_train), len(X_test)"
      ],
      "execution_count": null,
      "outputs": [
        {
          "output_type": "execute_result",
          "data": {
            "text/plain": [
              "(40, 10)"
            ]
          },
          "metadata": {
            "tags": []
          },
          "execution_count": 226
        }
      ]
    },
    {
      "cell_type": "markdown",
      "metadata": {
        "id": "Jz83b6zsbvBr"
      },
      "source": [
        "## Visualizing the data\n",
        "\n",
        "Now we've got our training and test data, it's a good idea to visualize it.\n",
        "\n",
        "Let's plot it with some nice colours to differentiate what's what."
      ]
    },
    {
      "cell_type": "code",
      "metadata": {
        "colab": {
          "base_uri": "https://localhost:8080/",
          "height": 428
        },
        "id": "yl83PgHzb0zT",
        "outputId": "4e05f486-c42e-484e-a389-55c959e17014"
      },
      "source": [
        "plt.figure(figsize = (10,7))\n",
        "\n",
        "#Plot training data to blue\n",
        "plt.scatter(X_train,y_train, c ='b', label = 'Training Data')\n",
        "\n",
        "#Plot test data to green\n",
        "plt.scatter(X_test,y_test, c='g', label = 'Testing data')\n",
        "plt.legend();"
      ],
      "execution_count": null,
      "outputs": [
        {
          "output_type": "display_data",
          "data": {
            "image/png": "[encoded data removed]",
            "text/plain": [
              "<Figure size 720x504 with 1 Axes>"
            ]
          },
          "metadata": {
            "tags": []
          }
        }
      ]
    },
    {
      "cell_type": "code",
      "metadata": {
        "colab": {
          "base_uri": "https://localhost:8080/"
        },
        "id": "fKYTQ-wIcNtp",
        "outputId": "04532448-f3c1-43eb-cb13-61212ca9ed4b"
      },
      "source": [
        "#Let's have a look at how to build a neural network for our data\n",
        "\n",
        "# 1. Create a model\n",
        "\n",
        "model = tf.keras.Sequential()\n",
        "model.add(tf.keras.layers.Dense(1))\n",
        "\n",
        "# 2. Compile a model\n",
        "model.compile(loss = tf.keras.losses.mae,\n",
        "              optimizer = tf.keras.optimizers.Adam(learning_rate= 0.01),\n",
        "              metrics = ['mae'])\n",
        "\n",
        "# 3. Fit the model\n",
        "model.fit(X_train, y_train, epochs = 100)"
      ],
      "execution_count": null,
      "outputs": [
        {
          "output_type": "stream",
          "text": [
            "Epoch 1/100\n",
            "2/2 [==============================] - 0s 5ms/step - loss: 8.1530 - mae: 8.1530\n",
            "Epoch 2/100\n",
            "2/2 [==============================] - 0s 5ms/step - loss: 7.8493 - mae: 7.8493\n",
            "Epoch 3/100\n",
            "2/2 [==============================] - 0s 2ms/step - loss: 7.6240 - mae: 7.6240\n",
            "Epoch 4/100\n",
            "2/2 [==============================] - 0s 3ms/step - loss: 7.5539 - mae: 7.5539\n",
            "Epoch 5/100\n",
            "2/2 [==============================] - 0s 3ms/step - loss: 7.5999 - mae: 7.5999\n",
            "Epoch 6/100\n",
            "2/2 [==============================] - 0s 3ms/step - loss: 7.7012 - mae: 7.7012\n",
            "Epoch 7/100\n",
            "2/2 [==============================] - 0s 4ms/step - loss: 7.7001 - mae: 7.7001\n",
            "Epoch 8/100\n",
            "2/2 [==============================] - 0s 5ms/step - loss: 7.6143 - mae: 7.6143\n",
            "Epoch 9/100\n",
            "2/2 [==============================] - 0s 3ms/step - loss: 7.5518 - mae: 7.5518\n",
            "Epoch 10/100\n",
            "2/2 [==============================] - 0s 2ms/step - loss: 7.5005 - mae: 7.5005\n",
            "Epoch 11/100\n",
            "2/2 [==============================] - 0s 3ms/step - loss: 7.4694 - mae: 7.4694\n",
            "Epoch 12/100\n",
            "2/2 [==============================] - 0s 3ms/step - loss: 7.4479 - mae: 7.4479\n",
            "Epoch 13/100\n",
            "2/2 [==============================] - 0s 3ms/step - loss: 7.4363 - mae: 7.4363\n",
            "Epoch 14/100\n",
            "2/2 [==============================] - 0s 3ms/step - loss: 7.4201 - mae: 7.4201\n",
            "Epoch 15/100\n",
            "2/2 [==============================] - 0s 3ms/step - loss: 7.4074 - mae: 7.4074\n",
            "Epoch 16/100\n",
            "2/2 [==============================] - 0s 3ms/step - loss: 7.3959 - mae: 7.3959\n",
            "Epoch 17/100\n",
            "2/2 [==============================] - 0s 3ms/step - loss: 7.3905 - mae: 7.3905\n",
            "Epoch 18/100\n",
            "2/2 [==============================] - 0s 3ms/step - loss: 7.3726 - mae: 7.3726\n",
            "Epoch 19/100\n",
            "2/2 [==============================] - 0s 3ms/step - loss: 7.3452 - mae: 7.3452\n",
            "Epoch 20/100\n",
            "2/2 [==============================] - 0s 4ms/step - loss: 7.3295 - mae: 7.3295\n",
            "Epoch 21/100\n",
            "2/2 [==============================] - 0s 3ms/step - loss: 7.3187 - mae: 7.3187\n",
            "Epoch 22/100\n",
            "2/2 [==============================] - 0s 6ms/step - loss: 7.3040 - mae: 7.3040\n",
            "Epoch 23/100\n",
            "2/2 [==============================] - 0s 4ms/step - loss: 7.2875 - mae: 7.2875\n",
            "Epoch 24/100\n",
            "2/2 [==============================] - 0s 7ms/step - loss: 7.2757 - mae: 7.2757\n",
            "Epoch 25/100\n",
            "2/2 [==============================] - 0s 4ms/step - loss: 7.2552 - mae: 7.2552\n",
            "Epoch 26/100\n",
            "2/2 [==============================] - 0s 5ms/step - loss: 7.2401 - mae: 7.2401\n",
            "Epoch 27/100\n",
            "2/2 [==============================] - 0s 4ms/step - loss: 7.2253 - mae: 7.2253\n",
            "Epoch 28/100\n",
            "2/2 [==============================] - 0s 2ms/step - loss: 7.2103 - mae: 7.2103\n",
            "Epoch 29/100\n",
            "2/2 [==============================] - 0s 3ms/step - loss: 7.1948 - mae: 7.1948\n",
            "Epoch 30/100\n",
            "2/2 [==============================] - 0s 3ms/step - loss: 7.1816 - mae: 7.1816\n",
            "Epoch 31/100\n",
            "2/2 [==============================] - 0s 5ms/step - loss: 7.1639 - mae: 7.1639\n",
            "Epoch 32/100\n",
            "2/2 [==============================] - 0s 3ms/step - loss: 7.1491 - mae: 7.1491\n",
            "Epoch 33/100\n",
            "2/2 [==============================] - 0s 3ms/step - loss: 7.1471 - mae: 7.1471\n",
            "Epoch 34/100\n",
            "2/2 [==============================] - 0s 2ms/step - loss: 7.1394 - mae: 7.1394\n",
            "Epoch 35/100\n",
            "2/2 [==============================] - 0s 3ms/step - loss: 7.1295 - mae: 7.1295\n",
            "Epoch 36/100\n",
            "2/2 [==============================] - 0s 5ms/step - loss: 7.1178 - mae: 7.1178\n",
            "Epoch 37/100\n",
            "2/2 [==============================] - 0s 4ms/step - loss: 7.1182 - mae: 7.1182\n",
            "Epoch 38/100\n",
            "2/2 [==============================] - 0s 4ms/step - loss: 7.1208 - mae: 7.1208\n",
            "Epoch 39/100\n",
            "2/2 [==============================] - 0s 10ms/step - loss: 7.1111 - mae: 7.1111\n",
            "Epoch 40/100\n",
            "2/2 [==============================] - 0s 7ms/step - loss: 7.0780 - mae: 7.0780\n",
            "Epoch 41/100\n",
            "2/2 [==============================] - 0s 5ms/step - loss: 7.0465 - mae: 7.0465\n",
            "Epoch 42/100\n",
            "2/2 [==============================] - 0s 4ms/step - loss: 7.0101 - mae: 7.0101\n",
            "Epoch 43/100\n",
            "2/2 [==============================] - 0s 4ms/step - loss: 6.9910 - mae: 6.9910\n",
            "Epoch 44/100\n",
            "2/2 [==============================] - 0s 4ms/step - loss: 6.9986 - mae: 6.9986\n",
            "Epoch 45/100\n",
            "2/2 [==============================] - 0s 4ms/step - loss: 6.9754 - mae: 6.9754\n",
            "Epoch 46/100\n",
            "2/2 [==============================] - 0s 5ms/step - loss: 6.9482 - mae: 6.9482\n",
            "Epoch 47/100\n",
            "2/2 [==============================] - 0s 3ms/step - loss: 6.9256 - mae: 6.9256\n",
            "Epoch 48/100\n",
            "2/2 [==============================] - 0s 4ms/step - loss: 6.9281 - mae: 6.9281\n",
            "Epoch 49/100\n",
            "2/2 [==============================] - 0s 4ms/step - loss: 6.9395 - mae: 6.9395\n",
            "Epoch 50/100\n",
            "2/2 [==============================] - 0s 6ms/step - loss: 6.9503 - mae: 6.9503\n",
            "Epoch 51/100\n",
            "2/2 [==============================] - 0s 4ms/step - loss: 6.9516 - mae: 6.9516\n",
            "Epoch 52/100\n",
            "2/2 [==============================] - 0s 3ms/step - loss: 6.9307 - mae: 6.9307\n",
            "Epoch 53/100\n",
            "2/2 [==============================] - 0s 12ms/step - loss: 6.8743 - mae: 6.8743\n",
            "Epoch 54/100\n",
            "2/2 [==============================] - 0s 5ms/step - loss: 6.8412 - mae: 6.8412\n",
            "Epoch 55/100\n",
            "2/2 [==============================] - 0s 3ms/step - loss: 6.8163 - mae: 6.8163\n",
            "Epoch 56/100\n",
            "2/2 [==============================] - 0s 6ms/step - loss: 6.7952 - mae: 6.7952\n",
            "Epoch 57/100\n",
            "2/2 [==============================] - 0s 8ms/step - loss: 6.7750 - mae: 6.7750\n",
            "Epoch 58/100\n",
            "2/2 [==============================] - 0s 3ms/step - loss: 6.7939 - mae: 6.7939\n",
            "Epoch 59/100\n",
            "2/2 [==============================] - 0s 3ms/step - loss: 6.8071 - mae: 6.8071\n",
            "Epoch 60/100\n",
            "2/2 [==============================] - 0s 3ms/step - loss: 6.7892 - mae: 6.7892\n",
            "Epoch 61/100\n",
            "2/2 [==============================] - 0s 6ms/step - loss: 6.7415 - mae: 6.7415\n",
            "Epoch 62/100\n",
            "2/2 [==============================] - 0s 3ms/step - loss: 6.7113 - mae: 6.7113\n",
            "Epoch 63/100\n",
            "2/2 [==============================] - 0s 4ms/step - loss: 6.6869 - mae: 6.6869\n",
            "Epoch 64/100\n",
            "2/2 [==============================] - 0s 5ms/step - loss: 6.7130 - mae: 6.7130\n",
            "Epoch 65/100\n",
            "2/2 [==============================] - 0s 4ms/step - loss: 6.7074 - mae: 6.7074\n",
            "Epoch 66/100\n",
            "2/2 [==============================] - 0s 5ms/step - loss: 6.6838 - mae: 6.6838\n",
            "Epoch 67/100\n",
            "2/2 [==============================] - 0s 3ms/step - loss: 6.6478 - mae: 6.6478\n",
            "Epoch 68/100\n",
            "2/2 [==============================] - 0s 5ms/step - loss: 6.6295 - mae: 6.6295\n",
            "Epoch 69/100\n",
            "2/2 [==============================] - 0s 7ms/step - loss: 6.6045 - mae: 6.6045\n",
            "Epoch 70/100\n",
            "2/2 [==============================] - 0s 4ms/step - loss: 6.5924 - mae: 6.5924\n",
            "Epoch 71/100\n",
            "2/2 [==============================] - 0s 6ms/step - loss: 6.5738 - mae: 6.5738\n",
            "Epoch 72/100\n",
            "2/2 [==============================] - 0s 6ms/step - loss: 6.5717 - mae: 6.5717\n",
            "Epoch 73/100\n",
            "2/2 [==============================] - 0s 3ms/step - loss: 6.5760 - mae: 6.5760\n",
            "Epoch 74/100\n",
            "2/2 [==============================] - 0s 4ms/step - loss: 6.5773 - mae: 6.5773\n",
            "Epoch 75/100\n",
            "2/2 [==============================] - 0s 4ms/step - loss: 6.5687 - mae: 6.5687\n",
            "Epoch 76/100\n",
            "2/2 [==============================] - 0s 3ms/step - loss: 6.5246 - mae: 6.5246\n",
            "Epoch 77/100\n",
            "2/2 [==============================] - 0s 5ms/step - loss: 6.4774 - mae: 6.4774\n",
            "Epoch 78/100\n",
            "2/2 [==============================] - 0s 3ms/step - loss: 6.4642 - mae: 6.4642\n",
            "Epoch 79/100\n",
            "2/2 [==============================] - 0s 4ms/step - loss: 6.4966 - mae: 6.4966\n",
            "Epoch 80/100\n",
            "2/2 [==============================] - 0s 12ms/step - loss: 6.4972 - mae: 6.4972\n",
            "Epoch 81/100\n",
            "2/2 [==============================] - 0s 6ms/step - loss: 6.4769 - mae: 6.4769\n",
            "Epoch 82/100\n",
            "2/2 [==============================] - 0s 2ms/step - loss: 6.4368 - mae: 6.4368\n",
            "Epoch 83/100\n",
            "2/2 [==============================] - 0s 4ms/step - loss: 6.4121 - mae: 6.4121\n",
            "Epoch 84/100\n",
            "2/2 [==============================] - 0s 4ms/step - loss: 6.3710 - mae: 6.3710\n",
            "Epoch 85/100\n",
            "2/2 [==============================] - 0s 6ms/step - loss: 6.3753 - mae: 6.3753\n",
            "Epoch 86/100\n",
            "2/2 [==============================] - 0s 5ms/step - loss: 6.3559 - mae: 6.3559\n",
            "Epoch 87/100\n",
            "2/2 [==============================] - 0s 3ms/step - loss: 6.3487 - mae: 6.3487\n",
            "Epoch 88/100\n",
            "2/2 [==============================] - 0s 4ms/step - loss: 6.3323 - mae: 6.3323\n",
            "Epoch 89/100\n",
            "2/2 [==============================] - 0s 7ms/step - loss: 6.3393 - mae: 6.3393\n",
            "Epoch 90/100\n",
            "2/2 [==============================] - 0s 3ms/step - loss: 6.3272 - mae: 6.3272\n",
            "Epoch 91/100\n",
            "2/2 [==============================] - 0s 3ms/step - loss: 6.3016 - mae: 6.3016\n",
            "Epoch 92/100\n",
            "2/2 [==============================] - 0s 4ms/step - loss: 6.2559 - mae: 6.2559\n",
            "Epoch 93/100\n",
            "2/2 [==============================] - 0s 3ms/step - loss: 6.2359 - mae: 6.2359\n",
            "Epoch 94/100\n",
            "2/2 [==============================] - 0s 4ms/step - loss: 6.2400 - mae: 6.2400\n",
            "Epoch 95/100\n",
            "2/2 [==============================] - 0s 6ms/step - loss: 6.2324 - mae: 6.2324\n",
            "Epoch 96/100\n",
            "2/2 [==============================] - 0s 3ms/step - loss: 6.2297 - mae: 6.2297\n",
            "Epoch 97/100\n",
            "2/2 [==============================] - 0s 5ms/step - loss: 6.2045 - mae: 6.2045\n",
            "Epoch 98/100\n",
            "2/2 [==============================] - 0s 3ms/step - loss: 6.1725 - mae: 6.1725\n",
            "Epoch 99/100\n",
            "2/2 [==============================] - 0s 6ms/step - loss: 6.1530 - mae: 6.1530\n",
            "Epoch 100/100\n",
            "2/2 [==============================] - 0s 3ms/step - loss: 6.1377 - mae: 6.1377\n"
          ],
          "name": "stdout"
        },
        {
          "output_type": "execute_result",
          "data": {
            "text/plain": [
              "<tensorflow.python.keras.callbacks.History at 0x7f6a2c0a8190>"
            ]
          },
          "metadata": {
            "tags": []
          },
          "execution_count": 228
        }
      ]
    },
    {
      "cell_type": "markdown",
      "metadata": {
        "id": "YHB7Kdf7hUfs"
      },
      "source": [
        "## Visualizing the model"
      ]
    },
    {
      "cell_type": "code",
      "metadata": {
        "colab": {
          "base_uri": "https://localhost:8080/"
        },
        "id": "FUZTl2pwhkTk",
        "outputId": "f0952314-6cc1-49fc-c0a5-3ecf8cf98b01"
      },
      "source": [
        "model.summary()"
      ],
      "execution_count": null,
      "outputs": [
        {
          "output_type": "stream",
          "text": [
            "Model: \"sequential_34\"\n",
            "_________________________________________________________________\n",
            "Layer (type)                 Output Shape              Param #   \n",
            "=================================================================\n",
            "dense_41 (Dense)             (None, 1)                 2         \n",
            "=================================================================\n",
            "Total params: 2\n",
            "Trainable params: 2\n",
            "Non-trainable params: 0\n",
            "_________________________________________________________________\n"
          ],
          "name": "stdout"
        }
      ]
    },
    {
      "cell_type": "code",
      "metadata": {
        "colab": {
          "base_uri": "https://localhost:8080/"
        },
        "id": "WMTjVj3CiMCR",
        "outputId": "7dbdaf60-68f6-4ec3-dcc5-d633de048582"
      },
      "source": [
        "X[0], y[0]"
      ],
      "execution_count": null,
      "outputs": [
        {
          "output_type": "execute_result",
          "data": {
            "text/plain": [
              "(<tf.Tensor: shape=(), dtype=int32, numpy=-100>,\n",
              " <tf.Tensor: shape=(), dtype=int32, numpy=-90>)"
            ]
          },
          "metadata": {
            "tags": []
          },
          "execution_count": 230
        }
      ]
    },
    {
      "cell_type": "code",
      "metadata": {
        "colab": {
          "base_uri": "https://localhost:8080/"
        },
        "id": "0aRpJdA8hmnA",
        "outputId": "873179a7-5b86-4e53-9d66-e3bcaff18e9a"
      },
      "source": [
        "# Let's create a model which builds automatically by defining the input_shape n the first layer\n",
        "\n",
        "tf.random.set_seed(42)\n",
        "\n",
        "# Create a model\n",
        "\n",
        "model = tf.keras.Sequential(name= 'Model1')\n",
        "(model.add(tf.keras.layers.Dense(10, input_shape=[1], name='input_layer'\n",
        " )), )\n",
        "model.add(tf.keras.layers.Dense(1, name='output_layer'))\n",
        "\n",
        "# Compile a model\n",
        "\n",
        "model.compile(loss=tf.keras.losses.mae,\n",
        "              optimizer=tf.keras.optimizers.Adam(learning_rate=0.01),\n",
        "              metrics=['mae'])\n",
        "\n",
        "# Fit a model\n",
        "\n",
        "model.fit(X_train, y_train, epochs=100)"
      ],
      "execution_count": null,
      "outputs": [
        {
          "output_type": "stream",
          "text": [
            "Epoch 1/100\n",
            "2/2 [==============================] - 0s 6ms/step - loss: 24.7643 - mae: 24.7643\n",
            "Epoch 2/100\n",
            "2/2 [==============================] - 0s 5ms/step - loss: 19.0262 - mae: 19.0262\n",
            "Epoch 3/100\n",
            "2/2 [==============================] - 0s 5ms/step - loss: 13.5870 - mae: 13.5870\n",
            "Epoch 4/100\n",
            "2/2 [==============================] - 0s 5ms/step - loss: 8.8757 - mae: 8.8757\n",
            "Epoch 5/100\n",
            "2/2 [==============================] - 0s 4ms/step - loss: 8.6327 - mae: 8.6327\n",
            "Epoch 6/100\n",
            "2/2 [==============================] - 0s 4ms/step - loss: 10.8266 - mae: 10.8266\n",
            "Epoch 7/100\n",
            "2/2 [==============================] - 0s 4ms/step - loss: 11.7706 - mae: 11.7706\n",
            "Epoch 8/100\n",
            "2/2 [==============================] - 0s 4ms/step - loss: 11.8001 - mae: 11.8001\n",
            "Epoch 9/100\n",
            "2/2 [==============================] - 0s 6ms/step - loss: 11.1962 - mae: 11.1962\n",
            "Epoch 10/100\n",
            "2/2 [==============================] - 0s 5ms/step - loss: 10.0506 - mae: 10.0506\n",
            "Epoch 11/100\n",
            "2/2 [==============================] - 0s 5ms/step - loss: 8.4785 - mae: 8.4785\n",
            "Epoch 12/100\n",
            "2/2 [==============================] - 0s 5ms/step - loss: 7.3061 - mae: 7.3061\n",
            "Epoch 13/100\n",
            "2/2 [==============================] - 0s 5ms/step - loss: 7.9295 - mae: 7.9295\n",
            "Epoch 14/100\n",
            "2/2 [==============================] - 0s 6ms/step - loss: 8.2075 - mae: 8.2075\n",
            "Epoch 15/100\n",
            "2/2 [==============================] - 0s 5ms/step - loss: 7.7219 - mae: 7.7219\n",
            "Epoch 16/100\n",
            "2/2 [==============================] - 0s 4ms/step - loss: 7.1421 - mae: 7.1421\n",
            "Epoch 17/100\n",
            "2/2 [==============================] - 0s 3ms/step - loss: 6.9032 - mae: 6.9032\n",
            "Epoch 18/100\n",
            "2/2 [==============================] - 0s 4ms/step - loss: 7.1171 - mae: 7.1171\n",
            "Epoch 19/100\n",
            "2/2 [==============================] - 0s 5ms/step - loss: 6.8713 - mae: 6.8713\n",
            "Epoch 20/100\n",
            "2/2 [==============================] - 0s 6ms/step - loss: 6.6966 - mae: 6.6966\n",
            "Epoch 21/100\n",
            "2/2 [==============================] - 0s 5ms/step - loss: 6.6737 - mae: 6.6737\n",
            "Epoch 22/100\n",
            "2/2 [==============================] - 0s 5ms/step - loss: 6.5517 - mae: 6.5517\n",
            "Epoch 23/100\n",
            "2/2 [==============================] - 0s 4ms/step - loss: 6.5632 - mae: 6.5632\n",
            "Epoch 24/100\n",
            "2/2 [==============================] - 0s 7ms/step - loss: 6.5071 - mae: 6.5071\n",
            "Epoch 25/100\n",
            "2/2 [==============================] - 0s 3ms/step - loss: 6.3482 - mae: 6.3482\n",
            "Epoch 26/100\n",
            "2/2 [==============================] - 0s 3ms/step - loss: 6.2796 - mae: 6.2796\n",
            "Epoch 27/100\n",
            "2/2 [==============================] - 0s 5ms/step - loss: 6.2361 - mae: 6.2361\n",
            "Epoch 28/100\n",
            "2/2 [==============================] - 0s 4ms/step - loss: 6.1653 - mae: 6.1653\n",
            "Epoch 29/100\n",
            "2/2 [==============================] - 0s 3ms/step - loss: 6.0706 - mae: 6.0706\n",
            "Epoch 30/100\n",
            "2/2 [==============================] - 0s 6ms/step - loss: 6.0291 - mae: 6.0291\n",
            "Epoch 31/100\n",
            "2/2 [==============================] - 0s 5ms/step - loss: 5.9077 - mae: 5.9077\n",
            "Epoch 32/100\n",
            "2/2 [==============================] - 0s 7ms/step - loss: 5.9504 - mae: 5.9504\n",
            "Epoch 33/100\n",
            "2/2 [==============================] - 0s 7ms/step - loss: 6.0770 - mae: 6.0770\n",
            "Epoch 34/100\n",
            "2/2 [==============================] - 0s 7ms/step - loss: 5.9371 - mae: 5.9371\n",
            "Epoch 35/100\n",
            "2/2 [==============================] - 0s 3ms/step - loss: 5.7583 - mae: 5.7583\n",
            "Epoch 36/100\n",
            "2/2 [==============================] - 0s 5ms/step - loss: 5.6100 - mae: 5.6100\n",
            "Epoch 37/100\n",
            "2/2 [==============================] - 0s 5ms/step - loss: 5.5049 - mae: 5.5049\n",
            "Epoch 38/100\n",
            "2/2 [==============================] - 0s 2ms/step - loss: 5.5993 - mae: 5.5993\n",
            "Epoch 39/100\n",
            "2/2 [==============================] - 0s 3ms/step - loss: 5.5565 - mae: 5.5565\n",
            "Epoch 40/100\n",
            "2/2 [==============================] - 0s 3ms/step - loss: 5.3353 - mae: 5.3353\n",
            "Epoch 41/100\n",
            "2/2 [==============================] - 0s 3ms/step - loss: 5.1988 - mae: 5.1988\n",
            "Epoch 42/100\n",
            "2/2 [==============================] - 0s 3ms/step - loss: 5.3877 - mae: 5.3877\n",
            "Epoch 43/100\n",
            "2/2 [==============================] - 0s 3ms/step - loss: 5.1514 - mae: 5.1514\n",
            "Epoch 44/100\n",
            "2/2 [==============================] - 0s 4ms/step - loss: 4.9465 - mae: 4.9465\n",
            "Epoch 45/100\n",
            "2/2 [==============================] - 0s 7ms/step - loss: 5.0810 - mae: 5.0810\n",
            "Epoch 46/100\n",
            "2/2 [==============================] - 0s 3ms/step - loss: 5.0890 - mae: 5.0890\n",
            "Epoch 47/100\n",
            "2/2 [==============================] - 0s 4ms/step - loss: 4.8108 - mae: 4.8108\n",
            "Epoch 48/100\n",
            "2/2 [==============================] - 0s 5ms/step - loss: 4.6230 - mae: 4.6230\n",
            "Epoch 49/100\n",
            "2/2 [==============================] - 0s 5ms/step - loss: 4.6238 - mae: 4.6238\n",
            "Epoch 50/100\n",
            "2/2 [==============================] - 0s 5ms/step - loss: 4.4386 - mae: 4.4386\n",
            "Epoch 51/100\n",
            "2/2 [==============================] - 0s 5ms/step - loss: 4.5251 - mae: 4.5251\n",
            "Epoch 52/100\n",
            "2/2 [==============================] - 0s 4ms/step - loss: 4.3965 - mae: 4.3965\n",
            "Epoch 53/100\n",
            "2/2 [==============================] - 0s 4ms/step - loss: 4.2997 - mae: 4.2997\n",
            "Epoch 54/100\n",
            "2/2 [==============================] - 0s 6ms/step - loss: 4.1182 - mae: 4.1182\n",
            "Epoch 55/100\n",
            "2/2 [==============================] - 0s 4ms/step - loss: 4.1023 - mae: 4.1023\n",
            "Epoch 56/100\n",
            "2/2 [==============================] - 0s 15ms/step - loss: 3.8748 - mae: 3.8748\n",
            "Epoch 57/100\n",
            "2/2 [==============================] - 0s 15ms/step - loss: 3.8659 - mae: 3.8659\n",
            "Epoch 58/100\n",
            "2/2 [==============================] - 0s 6ms/step - loss: 3.7244 - mae: 3.7244\n",
            "Epoch 59/100\n",
            "2/2 [==============================] - 0s 5ms/step - loss: 3.6444 - mae: 3.6444\n",
            "Epoch 60/100\n",
            "2/2 [==============================] - 0s 7ms/step - loss: 3.5109 - mae: 3.5109\n",
            "Epoch 61/100\n",
            "2/2 [==============================] - 0s 9ms/step - loss: 3.4097 - mae: 3.4097\n",
            "Epoch 62/100\n",
            "2/2 [==============================] - 0s 8ms/step - loss: 3.3124 - mae: 3.3124\n",
            "Epoch 63/100\n",
            "2/2 [==============================] - 0s 4ms/step - loss: 3.2729 - mae: 3.2729\n",
            "Epoch 64/100\n",
            "2/2 [==============================] - 0s 3ms/step - loss: 3.1014 - mae: 3.1014\n",
            "Epoch 65/100\n",
            "2/2 [==============================] - 0s 3ms/step - loss: 2.9931 - mae: 2.9931\n",
            "Epoch 66/100\n",
            "2/2 [==============================] - 0s 3ms/step - loss: 2.8670 - mae: 2.8670\n",
            "Epoch 67/100\n",
            "2/2 [==============================] - 0s 3ms/step - loss: 2.8825 - mae: 2.8825\n",
            "Epoch 68/100\n",
            "2/2 [==============================] - 0s 3ms/step - loss: 2.6894 - mae: 2.6894\n",
            "Epoch 69/100\n",
            "2/2 [==============================] - 0s 3ms/step - loss: 2.5258 - mae: 2.5258\n",
            "Epoch 70/100\n",
            "2/2 [==============================] - 0s 3ms/step - loss: 2.5212 - mae: 2.5212\n",
            "Epoch 71/100\n",
            "2/2 [==============================] - 0s 3ms/step - loss: 2.2685 - mae: 2.2685\n",
            "Epoch 72/100\n",
            "2/2 [==============================] - 0s 3ms/step - loss: 2.3147 - mae: 2.3147\n",
            "Epoch 73/100\n",
            "2/2 [==============================] - 0s 3ms/step - loss: 2.1676 - mae: 2.1676\n",
            "Epoch 74/100\n",
            "2/2 [==============================] - 0s 3ms/step - loss: 1.9131 - mae: 1.9131\n",
            "Epoch 75/100\n",
            "2/2 [==============================] - 0s 3ms/step - loss: 2.2775 - mae: 2.2775\n",
            "Epoch 76/100\n",
            "2/2 [==============================] - 0s 3ms/step - loss: 1.9966 - mae: 1.9966\n",
            "Epoch 77/100\n",
            "2/2 [==============================] - 0s 3ms/step - loss: 1.6327 - mae: 1.6327\n",
            "Epoch 78/100\n",
            "2/2 [==============================] - 0s 3ms/step - loss: 1.5498 - mae: 1.5498\n",
            "Epoch 79/100\n",
            "2/2 [==============================] - 0s 3ms/step - loss: 1.5338 - mae: 1.5338\n",
            "Epoch 80/100\n",
            "2/2 [==============================] - 0s 3ms/step - loss: 1.2707 - mae: 1.2707\n",
            "Epoch 81/100\n",
            "2/2 [==============================] - 0s 3ms/step - loss: 1.2268 - mae: 1.2268\n",
            "Epoch 82/100\n",
            "2/2 [==============================] - 0s 3ms/step - loss: 0.8647 - mae: 0.8647\n",
            "Epoch 83/100\n",
            "2/2 [==============================] - 0s 3ms/step - loss: 0.6219 - mae: 0.6219\n",
            "Epoch 84/100\n",
            "2/2 [==============================] - 0s 3ms/step - loss: 0.5439 - mae: 0.5439\n",
            "Epoch 85/100\n",
            "2/2 [==============================] - 0s 3ms/step - loss: 0.8905 - mae: 0.8905\n",
            "Epoch 86/100\n",
            "2/2 [==============================] - 0s 3ms/step - loss: 0.4026 - mae: 0.4026\n",
            "Epoch 87/100\n",
            "2/2 [==============================] - 0s 3ms/step - loss: 0.7196 - mae: 0.7196\n",
            "Epoch 88/100\n",
            "2/2 [==============================] - 0s 4ms/step - loss: 1.3945 - mae: 1.3945\n",
            "Epoch 89/100\n",
            "2/2 [==============================] - 0s 3ms/step - loss: 1.4896 - mae: 1.4896\n",
            "Epoch 90/100\n",
            "2/2 [==============================] - 0s 3ms/step - loss: 0.9490 - mae: 0.9490\n",
            "Epoch 91/100\n",
            "2/2 [==============================] - 0s 3ms/step - loss: 1.2693 - mae: 1.2693\n",
            "Epoch 92/100\n",
            "2/2 [==============================] - 0s 3ms/step - loss: 0.9246 - mae: 0.9246\n",
            "Epoch 93/100\n",
            "2/2 [==============================] - 0s 4ms/step - loss: 1.1842 - mae: 1.1842\n",
            "Epoch 94/100\n",
            "2/2 [==============================] - 0s 8ms/step - loss: 0.8709 - mae: 0.8709\n",
            "Epoch 95/100\n",
            "2/2 [==============================] - 0s 3ms/step - loss: 0.8290 - mae: 0.8290\n",
            "Epoch 96/100\n",
            "2/2 [==============================] - 0s 4ms/step - loss: 1.2720 - mae: 1.2720\n",
            "Epoch 97/100\n",
            "2/2 [==============================] - 0s 4ms/step - loss: 0.9911 - mae: 0.9911\n",
            "Epoch 98/100\n",
            "2/2 [==============================] - 0s 5ms/step - loss: 1.0985 - mae: 1.0985\n",
            "Epoch 99/100\n",
            "2/2 [==============================] - 0s 3ms/step - loss: 0.8477 - mae: 0.8477\n",
            "Epoch 100/100\n",
            "2/2 [==============================] - 0s 8ms/step - loss: 1.3402 - mae: 1.3402\n"
          ],
          "name": "stdout"
        },
        {
          "output_type": "execute_result",
          "data": {
            "text/plain": [
              "<tensorflow.python.keras.callbacks.History at 0x7f6a2bfaab90>"
            ]
          },
          "metadata": {
            "tags": []
          },
          "execution_count": 231
        }
      ]
    },
    {
      "cell_type": "markdown",
      "metadata": {
        "id": "XLn2AtD-iTeF"
      },
      "source": [
        ""
      ]
    },
    {
      "cell_type": "code",
      "metadata": {
        "colab": {
          "base_uri": "https://localhost:8080/"
        },
        "id": "8RHmUWhjh4z8",
        "outputId": "f87e4218-110f-4d52-94f3-bf15e203b768"
      },
      "source": [
        "#Get a summary of our model\n",
        "model.summary()"
      ],
      "execution_count": null,
      "outputs": [
        {
          "output_type": "stream",
          "text": [
            "Model: \"Model1\"\n",
            "_________________________________________________________________\n",
            "Layer (type)                 Output Shape              Param #   \n",
            "=================================================================\n",
            "input_layer (Dense)          (None, 10)                20        \n",
            "_________________________________________________________________\n",
            "output_layer (Dense)         (None, 1)                 11        \n",
            "=================================================================\n",
            "Total params: 31\n",
            "Trainable params: 31\n",
            "Non-trainable params: 0\n",
            "_________________________________________________________________\n"
          ],
          "name": "stdout"
        }
      ]
    },
    {
      "cell_type": "markdown",
      "metadata": {
        "id": "lLUSDFY-jFai"
      },
      "source": [
        "* Total params - Total number of parameters in the model\n",
        "* Trainable parameters - These are the parameters (patterns) that model can update as it trains\n",
        "* Non Trainable params - These parameters are not updated during training. (This is typical when you bring in already learn patterns from other models during transfer learning)"
      ]
    },
    {
      "cell_type": "code",
      "metadata": {
        "colab": {
          "base_uri": "https://localhost:8080/",
          "height": 312
        },
        "id": "sJSdUSDslY4V",
        "outputId": "e79ca580-9eef-4a0f-b9a1-d8e5ec3d6234"
      },
      "source": [
        "from tensorflow.keras.utils import plot_model\n",
        "\n",
        "plot_model(model = model, show_shapes = True)"
      ],
      "execution_count": null,
      "outputs": [
        {
          "output_type": "execute_result",
          "data": {
            "image/png": "[encoded data removed]",
            "text/plain": [
              "<IPython.core.display.Image object>"
            ]
          },
          "metadata": {
            "tags": []
          },
          "execution_count": 233
        }
      ]
    },
    {
      "cell_type": "markdown",
      "metadata": {
        "id": "k0-zVce_uHO3"
      },
      "source": [
        "### Visualizing our models predictions\n",
        "\n",
        "To visualize predictions, it is good to plot them against the ground truth labels.\n",
        "\n",
        "Often you'll see this in the form of y_test vs. y_pred (ground truth vs. predictions).\n",
        "\n",
        "First, we'll make some predictions on the test data (X_test), remember the model has never seen the test data."
      ]
    },
    {
      "cell_type": "code",
      "metadata": {
        "colab": {
          "base_uri": "https://localhost:8080/"
        },
        "id": "zK6cJUZhyHta",
        "outputId": "5910bd78-532f-4361-9e54-6f29a8037d60"
      },
      "source": [
        "# Make some predictions\n",
        "y_pred = model.predict(X_test)\n",
        "y_pred"
      ],
      "execution_count": null,
      "outputs": [
        {
          "output_type": "execute_result",
          "data": {
            "text/plain": [
              "array([[ 72.42797 ],\n",
              "       [ 76.58641 ],\n",
              "       [ 80.74485 ],\n",
              "       [ 84.90329 ],\n",
              "       [ 89.06173 ],\n",
              "       [ 93.22018 ],\n",
              "       [ 97.378624],\n",
              "       [101.537056],\n",
              "       [105.695496],\n",
              "       [109.853935]], dtype=float32)"
            ]
          },
          "metadata": {
            "tags": []
          },
          "execution_count": 234
        }
      ]
    },
    {
      "cell_type": "code",
      "metadata": {
        "id": "ODArF1Ujy9YK"
      },
      "source": [
        "# Let's create a plotting function\n",
        "\n",
        "\n",
        "def plot_predictions(\n",
        "    train_data=X_train,\n",
        "    train_labels=y_train,\n",
        "    test_data=X_test,\n",
        "    test_labels=y_test,\n",
        "    predictions=y_pred,\n",
        "    ):\n",
        "    \"\"\"\n",
        "  Plots training data, test data and compares them\n",
        "\n",
        "  \"\"\"\n",
        "\n",
        "    plt.figure(figsize=(10, 7))\n",
        "    plt.style.use('ggplot')\n",
        "\n",
        "  # Plot training data in blue\n",
        "\n",
        "    plt.scatter(train_data, train_labels, c='b', label='Training data')\n",
        "\n",
        "  # Plot training data in green\n",
        "\n",
        "    plt.scatter(test_data, test_labels, c='g', label='Test data')\n",
        "\n",
        "  # Plot models predictions in red\n",
        "\n",
        "    plt.scatter(test_data, predictions, c='r', label='Predictions')\n",
        "\n",
        "    plt.legend()"
      ],
      "execution_count": null,
      "outputs": []
    },
    {
      "cell_type": "code",
      "metadata": {
        "colab": {
          "base_uri": "https://localhost:8080/",
          "height": 428
        },
        "id": "OvtqsYqb0d0k",
        "outputId": "0698a2ca-1160-4095-badd-297cdeab785b"
      },
      "source": [
        "plot_predictions(train_data=X_train, train_labels=y_train,\n",
        "                 test_data=X_test, test_labels=y_test,\n",
        "                 predictions=y_pred);"
      ],
      "execution_count": null,
      "outputs": [
        {
          "output_type": "display_data",
          "data": {
            "image/png": "[encoded data removed]",
            "text/plain": [
              "<Figure size 720x504 with 1 Axes>"
            ]
          },
          "metadata": {
            "tags": []
          }
        }
      ]
    },
    {
      "cell_type": "markdown",
      "metadata": {
        "id": "F-zJ5GqQ0jST"
      },
      "source": [
        "### Evaluating our models prediction with regression evaluation metrics\n",
        "\n",
        "Depending on problem you are working on, there will be different evaluation metrics to evaluate your model's performance.\n",
        "\n",
        "Since we're working on a regression, two of the main metrics would be:\n",
        "\n",
        "* MAE - Mean absolute error \"On average, how wrong is each of my model's prediction errors\"\n",
        "\n",
        "* MSE - Mean square error, \"Square the average errors\"\n"
      ]
    },
    {
      "cell_type": "code",
      "metadata": {
        "colab": {
          "base_uri": "https://localhost:8080/"
        },
        "id": "-55ywHLF4dfm",
        "outputId": "c3fe7263-1000-4984-cc15-8c8c248d0520"
      },
      "source": [
        "#Evaluate the model on the test set\n",
        "model.evaluate(X_test, y_test)"
      ],
      "execution_count": null,
      "outputs": [
        {
          "output_type": "stream",
          "text": [
            "1/1 [==============================] - 0s 30ms/step - loss: 3.1410 - mae: 3.1410\n"
          ],
          "name": "stdout"
        },
        {
          "output_type": "execute_result",
          "data": {
            "text/plain": [
              "[3.1409544944763184, 3.1409544944763184]"
            ]
          },
          "metadata": {
            "tags": []
          },
          "execution_count": 247
        }
      ]
    },
    {
      "cell_type": "code",
      "metadata": {
        "colab": {
          "base_uri": "https://localhost:8080/"
        },
        "id": "7q3VjNoy8LJ-",
        "outputId": "b5e30099-4b74-47f8-f585-3162bd138f67"
      },
      "source": [
        "#Calculate the mean absolute error using numpy\n",
        "np.mean(np.subtract(y_pred,y_test))"
      ],
      "execution_count": null,
      "outputs": [
        {
          "output_type": "execute_result",
          "data": {
            "text/plain": [
              "3.1409538269042967"
            ]
          },
          "metadata": {
            "tags": []
          },
          "execution_count": 248
        }
      ]
    },
    {
      "cell_type": "code",
      "metadata": {
        "colab": {
          "base_uri": "https://localhost:8080/"
        },
        "id": "MsoZZYLD8jCn",
        "outputId": "e6de760b-4e3d-4d84-cfb7-0cd02681c178"
      },
      "source": [
        "#Calculate the mean squared error\n",
        "mse = tf.metrics.mse(y_true= y_test,\n",
        "                     y_pred = tf.squeeze(y_pred))\n",
        "mse"
      ],
      "execution_count": null,
      "outputs": [
        {
          "output_type": "execute_result",
          "data": {
            "text/plain": [
              "<tf.Tensor: shape=(), dtype=float32, numpy=10.072696>"
            ]
          },
          "metadata": {
            "tags": []
          },
          "execution_count": 249
        }
      ]
    },
    {
      "cell_type": "code",
      "metadata": {
        "id": "cYAJebNT9K1e"
      },
      "source": [
        "# Make some functions to reuse MAE and MSE\n",
        "def mae(y_true, y_pred):\n",
        "  return tf.metrics.mean_absolute_error(y_true= y_true,\n",
        "                                        y_pred = y_pred)\n",
        "  \n",
        "def mse(y_true,y_pred):\n",
        "  return tf.metrics.mean_squared_error(y_true= y_true,\n",
        "                                       y_pred = y_pred)"
      ],
      "execution_count": null,
      "outputs": []
    },
    {
      "cell_type": "markdown",
      "metadata": {
        "id": "ydrnuK279MS-"
      },
      "source": [
        "### Running expiriments to improve our model\n",
        "\n",
        "After seeing the evaluation metrics and the predictions your model makes, it's likely you'll want to improve it.\n",
        "\n",
        "Again, there are many different ways you can do this, but 3 of the main ones are:\n",
        "\n",
        "Get more data - get more examples for your model to train on (more opportunities to learn patterns).\n",
        "\n",
        "Make your model larger (use a more complex model) - this might come in the form of more layers or more hidden units in each layer.\n",
        "\n",
        "Train for longer - give your model more of a chance to find the patterns in the data.\n",
        "\n",
        "Since we created our dataset, we could easily make more data but this isn't always the case when you're working with real-world datasets.\n",
        "\n",
        "So let's take a look at how we can improve our model using 2 and 3.\n",
        "\n",
        "To do so, we'll build 3 models and compare their results:\n",
        "\n",
        "model_1 - same as original model, 1 layer, trained for 100 epochs.\n",
        "\n",
        "model_2 - 2 layers, trained for 100 epochs.\n",
        "\n",
        "model_3 - 2 layers, trained for 500 epochs."
      ]
    },
    {
      "cell_type": "code",
      "metadata": {
        "colab": {
          "base_uri": "https://localhost:8080/"
        },
        "id": "Pkegg4VO-qwL",
        "outputId": "9b19c183-b1ec-4ca2-cfd3-b168045b8c1a"
      },
      "source": [
        "X_train, y_train"
      ],
      "execution_count": null,
      "outputs": [
        {
          "output_type": "execute_result",
          "data": {
            "text/plain": [
              "(<tf.Tensor: shape=(40,), dtype=int32, numpy=\n",
              " array([-100,  -96,  -92,  -88,  -84,  -80,  -76,  -72,  -68,  -64,  -60,\n",
              "         -56,  -52,  -48,  -44,  -40,  -36,  -32,  -28,  -24,  -20,  -16,\n",
              "         -12,   -8,   -4,    0,    4,    8,   12,   16,   20,   24,   28,\n",
              "          32,   36,   40,   44,   48,   52,   56], dtype=int32)>,\n",
              " <tf.Tensor: shape=(40,), dtype=int32, numpy=\n",
              " array([-90, -86, -82, -78, -74, -70, -66, -62, -58, -54, -50, -46, -42,\n",
              "        -38, -34, -30, -26, -22, -18, -14, -10,  -6,  -2,   2,   6,  10,\n",
              "         14,  18,  22,  26,  30,  34,  38,  42,  46,  50,  54,  58,  62,\n",
              "         66], dtype=int32)>)"
            ]
          },
          "metadata": {
            "tags": []
          },
          "execution_count": 251
        }
      ]
    },
    {
      "cell_type": "code",
      "metadata": {
        "colab": {
          "base_uri": "https://localhost:8080/"
        },
        "id": "JDAHszjp_0aK",
        "outputId": "97c09135-135c-4136-befd-4e72e0796147"
      },
      "source": [
        "#Set random seed\n",
        "tf.random.set_seed(42)\n",
        "\n",
        "#Build a model\n",
        "model_1 = tf.keras.Sequential()\n",
        "model_1.add(tf.keras.layers.Dense(1))\n",
        "\n",
        "#Compile a model\n",
        "model_1.compile(loss = tf.keras.losses.mae,\n",
        "                optimizer = tf.keras.optimizers.Adam(learning_rate= 0.01),\n",
        "                metrics = ['mae'])\n",
        "\n",
        "#Fit the model\n",
        "model_1.fit(X_train, y_train, epochs = 100)"
      ],
      "execution_count": null,
      "outputs": [
        {
          "output_type": "stream",
          "text": [
            "Epoch 1/100\n",
            "2/2 [==============================] - 0s 6ms/step - loss: 17.1341 - mae: 17.1341\n",
            "Epoch 2/100\n",
            "2/2 [==============================] - 0s 4ms/step - loss: 16.3267 - mae: 16.3267\n",
            "Epoch 3/100\n",
            "2/2 [==============================] - 0s 7ms/step - loss: 15.5698 - mae: 15.5698\n",
            "Epoch 4/100\n",
            "2/2 [==============================] - 0s 3ms/step - loss: 14.8027 - mae: 14.8027\n",
            "Epoch 5/100\n",
            "2/2 [==============================] - 0s 3ms/step - loss: 14.0456 - mae: 14.0456\n",
            "Epoch 6/100\n",
            "2/2 [==============================] - 0s 8ms/step - loss: 13.3200 - mae: 13.3200\n",
            "Epoch 7/100\n",
            "2/2 [==============================] - 0s 3ms/step - loss: 12.5875 - mae: 12.5875\n",
            "Epoch 8/100\n",
            "2/2 [==============================] - 0s 3ms/step - loss: 11.8444 - mae: 11.8444\n",
            "Epoch 9/100\n",
            "2/2 [==============================] - 0s 3ms/step - loss: 11.1684 - mae: 11.1684\n",
            "Epoch 10/100\n",
            "2/2 [==============================] - 0s 3ms/step - loss: 10.5400 - mae: 10.5400\n",
            "Epoch 11/100\n",
            "2/2 [==============================] - 0s 3ms/step - loss: 9.9011 - mae: 9.9011\n",
            "Epoch 12/100\n",
            "2/2 [==============================] - 0s 4ms/step - loss: 9.2781 - mae: 9.2781\n",
            "Epoch 13/100\n",
            "2/2 [==============================] - 0s 5ms/step - loss: 8.7234 - mae: 8.7234\n",
            "Epoch 14/100\n",
            "2/2 [==============================] - 0s 2ms/step - loss: 8.2773 - mae: 8.2773\n",
            "Epoch 15/100\n",
            "2/2 [==============================] - 0s 4ms/step - loss: 7.9286 - mae: 7.9286\n",
            "Epoch 16/100\n",
            "2/2 [==============================] - 0s 4ms/step - loss: 7.6752 - mae: 7.6752\n",
            "Epoch 17/100\n",
            "2/2 [==============================] - 0s 3ms/step - loss: 7.4788 - mae: 7.4788\n",
            "Epoch 18/100\n",
            "2/2 [==============================] - 0s 3ms/step - loss: 7.5228 - mae: 7.5228\n",
            "Epoch 19/100\n",
            "2/2 [==============================] - 0s 6ms/step - loss: 7.6023 - mae: 7.6023\n",
            "Epoch 20/100\n",
            "2/2 [==============================] - 0s 6ms/step - loss: 7.6911 - mae: 7.6911\n",
            "Epoch 21/100\n",
            "2/2 [==============================] - 0s 3ms/step - loss: 7.7004 - mae: 7.7004\n",
            "Epoch 22/100\n",
            "2/2 [==============================] - 0s 5ms/step - loss: 7.6482 - mae: 7.6482\n",
            "Epoch 23/100\n",
            "2/2 [==============================] - 0s 3ms/step - loss: 7.5369 - mae: 7.5369\n",
            "Epoch 24/100\n",
            "2/2 [==============================] - 0s 4ms/step - loss: 7.4508 - mae: 7.4508\n",
            "Epoch 25/100\n",
            "2/2 [==============================] - 0s 3ms/step - loss: 7.3606 - mae: 7.3606\n",
            "Epoch 26/100\n",
            "2/2 [==============================] - 0s 8ms/step - loss: 7.3211 - mae: 7.3211\n",
            "Epoch 27/100\n",
            "2/2 [==============================] - 0s 3ms/step - loss: 7.3105 - mae: 7.3105\n",
            "Epoch 28/100\n",
            "2/2 [==============================] - 0s 3ms/step - loss: 7.3070 - mae: 7.3070\n",
            "Epoch 29/100\n",
            "2/2 [==============================] - 0s 6ms/step - loss: 7.3143 - mae: 7.3143\n",
            "Epoch 30/100\n",
            "2/2 [==============================] - 0s 4ms/step - loss: 7.3132 - mae: 7.3132\n",
            "Epoch 31/100\n",
            "2/2 [==============================] - 0s 3ms/step - loss: 7.2980 - mae: 7.2980\n",
            "Epoch 32/100\n",
            "2/2 [==============================] - 0s 7ms/step - loss: 7.2696 - mae: 7.2696\n",
            "Epoch 33/100\n",
            "2/2 [==============================] - 0s 2ms/step - loss: 7.2451 - mae: 7.2451\n",
            "Epoch 34/100\n",
            "2/2 [==============================] - 0s 7ms/step - loss: 7.2226 - mae: 7.2226\n",
            "Epoch 35/100\n",
            "2/2 [==============================] - 0s 4ms/step - loss: 7.1991 - mae: 7.1991\n",
            "Epoch 36/100\n",
            "2/2 [==============================] - 0s 3ms/step - loss: 7.1716 - mae: 7.1716\n",
            "Epoch 37/100\n",
            "2/2 [==============================] - 0s 4ms/step - loss: 7.1544 - mae: 7.1544\n",
            "Epoch 38/100\n",
            "2/2 [==============================] - 0s 7ms/step - loss: 7.1378 - mae: 7.1378\n",
            "Epoch 39/100\n",
            "2/2 [==============================] - 0s 4ms/step - loss: 7.1216 - mae: 7.1216\n",
            "Epoch 40/100\n",
            "2/2 [==============================] - 0s 4ms/step - loss: 7.0999 - mae: 7.0999\n",
            "Epoch 41/100\n",
            "2/2 [==============================] - 0s 3ms/step - loss: 7.0783 - mae: 7.0783\n",
            "Epoch 42/100\n",
            "2/2 [==============================] - 0s 4ms/step - loss: 7.0537 - mae: 7.0537\n",
            "Epoch 43/100\n",
            "2/2 [==============================] - 0s 3ms/step - loss: 7.0360 - mae: 7.0360\n",
            "Epoch 44/100\n",
            "2/2 [==============================] - 0s 4ms/step - loss: 7.0241 - mae: 7.0241\n",
            "Epoch 45/100\n",
            "2/2 [==============================] - 0s 4ms/step - loss: 7.0004 - mae: 7.0004\n",
            "Epoch 46/100\n",
            "2/2 [==============================] - 0s 3ms/step - loss: 6.9826 - mae: 6.9826\n",
            "Epoch 47/100\n",
            "2/2 [==============================] - 0s 3ms/step - loss: 6.9661 - mae: 6.9661\n",
            "Epoch 48/100\n",
            "2/2 [==============================] - 0s 3ms/step - loss: 6.9526 - mae: 6.9526\n",
            "Epoch 49/100\n",
            "2/2 [==============================] - 0s 3ms/step - loss: 6.9458 - mae: 6.9458\n",
            "Epoch 50/100\n",
            "2/2 [==============================] - 0s 3ms/step - loss: 6.9364 - mae: 6.9364\n",
            "Epoch 51/100\n",
            "2/2 [==============================] - 0s 3ms/step - loss: 6.9305 - mae: 6.9305\n",
            "Epoch 52/100\n",
            "2/2 [==============================] - 0s 4ms/step - loss: 6.9132 - mae: 6.9132\n",
            "Epoch 53/100\n",
            "2/2 [==============================] - 0s 4ms/step - loss: 6.8861 - mae: 6.8861\n",
            "Epoch 54/100\n",
            "2/2 [==============================] - 0s 7ms/step - loss: 6.8642 - mae: 6.8642\n",
            "Epoch 55/100\n",
            "2/2 [==============================] - 0s 3ms/step - loss: 6.8454 - mae: 6.8454\n",
            "Epoch 56/100\n",
            "2/2 [==============================] - 0s 3ms/step - loss: 6.8235 - mae: 6.8235\n",
            "Epoch 57/100\n",
            "2/2 [==============================] - 0s 3ms/step - loss: 6.7990 - mae: 6.7990\n",
            "Epoch 58/100\n",
            "2/2 [==============================] - 0s 3ms/step - loss: 6.7895 - mae: 6.7895\n",
            "Epoch 59/100\n",
            "2/2 [==============================] - 0s 3ms/step - loss: 6.7831 - mae: 6.7831\n",
            "Epoch 60/100\n",
            "2/2 [==============================] - 0s 3ms/step - loss: 6.7723 - mae: 6.7723\n",
            "Epoch 61/100\n",
            "2/2 [==============================] - 0s 3ms/step - loss: 6.7555 - mae: 6.7555\n",
            "Epoch 62/100\n",
            "2/2 [==============================] - 0s 3ms/step - loss: 6.7334 - mae: 6.7334\n",
            "Epoch 63/100\n",
            "2/2 [==============================] - 0s 3ms/step - loss: 6.7035 - mae: 6.7035\n",
            "Epoch 64/100\n",
            "2/2 [==============================] - 0s 3ms/step - loss: 6.7004 - mae: 6.7004\n",
            "Epoch 65/100\n",
            "2/2 [==============================] - 0s 3ms/step - loss: 6.6776 - mae: 6.6776\n",
            "Epoch 66/100\n",
            "2/2 [==============================] - 0s 4ms/step - loss: 6.6654 - mae: 6.6654\n",
            "Epoch 67/100\n",
            "2/2 [==============================] - 0s 10ms/step - loss: 6.6490 - mae: 6.6490\n",
            "Epoch 68/100\n",
            "2/2 [==============================] - 0s 4ms/step - loss: 6.6310 - mae: 6.6310\n",
            "Epoch 69/100\n",
            "2/2 [==============================] - 0s 6ms/step - loss: 6.6102 - mae: 6.6102\n",
            "Epoch 70/100\n",
            "2/2 [==============================] - 0s 5ms/step - loss: 6.5944 - mae: 6.5944\n",
            "Epoch 71/100\n",
            "2/2 [==============================] - 0s 4ms/step - loss: 6.5728 - mae: 6.5728\n",
            "Epoch 72/100\n",
            "2/2 [==============================] - 0s 6ms/step - loss: 6.5620 - mae: 6.5620\n",
            "Epoch 73/100\n",
            "2/2 [==============================] - 0s 3ms/step - loss: 6.5525 - mae: 6.5525\n",
            "Epoch 74/100\n",
            "2/2 [==============================] - 0s 2ms/step - loss: 6.5658 - mae: 6.5658\n",
            "Epoch 75/100\n",
            "2/2 [==============================] - 0s 3ms/step - loss: 6.5706 - mae: 6.5706\n",
            "Epoch 76/100\n",
            "2/2 [==============================] - 0s 3ms/step - loss: 6.5473 - mae: 6.5473\n",
            "Epoch 77/100\n",
            "2/2 [==============================] - 0s 9ms/step - loss: 6.5032 - mae: 6.5032\n",
            "Epoch 78/100\n",
            "2/2 [==============================] - 0s 3ms/step - loss: 6.4579 - mae: 6.4579\n",
            "Epoch 79/100\n",
            "2/2 [==============================] - 0s 3ms/step - loss: 6.4639 - mae: 6.4639\n",
            "Epoch 80/100\n",
            "2/2 [==============================] - 0s 3ms/step - loss: 6.4459 - mae: 6.4459\n",
            "Epoch 81/100\n",
            "2/2 [==============================] - 0s 3ms/step - loss: 6.4378 - mae: 6.4378\n",
            "Epoch 82/100\n",
            "2/2 [==============================] - 0s 3ms/step - loss: 6.4258 - mae: 6.4258\n",
            "Epoch 83/100\n",
            "2/2 [==============================] - 0s 3ms/step - loss: 6.4107 - mae: 6.4107\n",
            "Epoch 84/100\n",
            "2/2 [==============================] - 0s 3ms/step - loss: 6.3866 - mae: 6.3866\n",
            "Epoch 85/100\n",
            "2/2 [==============================] - 0s 3ms/step - loss: 6.3667 - mae: 6.3667\n",
            "Epoch 86/100\n",
            "2/2 [==============================] - 0s 3ms/step - loss: 6.3350 - mae: 6.3350\n",
            "Epoch 87/100\n",
            "2/2 [==============================] - 0s 3ms/step - loss: 6.3142 - mae: 6.3142\n",
            "Epoch 88/100\n",
            "2/2 [==============================] - 0s 4ms/step - loss: 6.2989 - mae: 6.2989\n",
            "Epoch 89/100\n",
            "2/2 [==============================] - 0s 3ms/step - loss: 6.3022 - mae: 6.3022\n",
            "Epoch 90/100\n",
            "2/2 [==============================] - 0s 4ms/step - loss: 6.3079 - mae: 6.3079\n",
            "Epoch 91/100\n",
            "2/2 [==============================] - 0s 3ms/step - loss: 6.2935 - mae: 6.2935\n",
            "Epoch 92/100\n",
            "2/2 [==============================] - 0s 7ms/step - loss: 6.2629 - mae: 6.2629\n",
            "Epoch 93/100\n",
            "2/2 [==============================] - 0s 3ms/step - loss: 6.2320 - mae: 6.2320\n",
            "Epoch 94/100\n",
            "2/2 [==============================] - 0s 3ms/step - loss: 6.2036 - mae: 6.2036\n",
            "Epoch 95/100\n",
            "2/2 [==============================] - 0s 6ms/step - loss: 6.1869 - mae: 6.1869\n",
            "Epoch 96/100\n",
            "2/2 [==============================] - 0s 4ms/step - loss: 6.1941 - mae: 6.1941\n",
            "Epoch 97/100\n",
            "2/2 [==============================] - 0s 3ms/step - loss: 6.1754 - mae: 6.1754\n",
            "Epoch 98/100\n",
            "2/2 [==============================] - 0s 3ms/step - loss: 6.1547 - mae: 6.1547\n",
            "Epoch 99/100\n",
            "2/2 [==============================] - 0s 3ms/step - loss: 6.1333 - mae: 6.1333\n",
            "Epoch 100/100\n",
            "2/2 [==============================] - 0s 3ms/step - loss: 6.1093 - mae: 6.1093\n"
          ],
          "name": "stdout"
        },
        {
          "output_type": "execute_result",
          "data": {
            "text/plain": [
              "<tensorflow.python.keras.callbacks.History at 0x7f6a2b427510>"
            ]
          },
          "metadata": {
            "tags": []
          },
          "execution_count": 252
        }
      ]
    },
    {
      "cell_type": "code",
      "metadata": {
        "colab": {
          "base_uri": "https://localhost:8080/",
          "height": 428
        },
        "id": "3hJcT3Y2ApEq",
        "outputId": "850865ec-9492-4499-8362-6afeeb48feb0"
      },
      "source": [
        "#Make and plot predictions\n",
        "y_preds_1 = model_1.predict(X_test)\n",
        "\n",
        "plot_predictions(train_data = X_train,\n",
        "                 train_labels = y_train,\n",
        "                 test_data = X_test,\n",
        "                 test_labels = y_test,\n",
        "                 predictions = y_preds_1)"
      ],
      "execution_count": null,
      "outputs": [
        {
          "output_type": "display_data",
          "data": {
            "image/png": "[encoded data removed]",
            "text/plain": [
              "<Figure size 720x504 with 1 Axes>"
            ]
          },
          "metadata": {
            "tags": []
          }
        }
      ]
    },
    {
      "cell_type": "code",
      "metadata": {
        "colab": {
          "base_uri": "https://localhost:8080/"
        },
        "id": "xnd_CXWyCaWY",
        "outputId": "e6538370-5c32-4b34-ba5b-46796aff0064"
      },
      "source": [
        "#Calculate model_1 evaluation\n",
        "mae_1 = mae(y_test, tf.squeeze(y_preds_1))\n",
        "mse_1 = mse(y_test, tf.squeeze(y_preds_1))\n",
        "mae_1, mse_1"
      ],
      "execution_count": null,
      "outputs": [
        {
          "output_type": "execute_result",
          "data": {
            "text/plain": [
              "(<tf.Tensor: shape=(), dtype=float32, numpy=15.4527645>,\n",
              " <tf.Tensor: shape=(), dtype=float32, numpy=239.99292>)"
            ]
          },
          "metadata": {
            "tags": []
          },
          "execution_count": 254
        }
      ]
    },
    {
      "cell_type": "code",
      "metadata": {
        "id": "PJ-LWZmxC8et"
      },
      "source": [
        ""
      ],
      "execution_count": null,
      "outputs": []
    },
    {
      "cell_type": "code",
      "metadata": {
        "colab": {
          "base_uri": "https://localhost:8080/"
        },
        "id": "FMhQvO_A-14t",
        "outputId": "2697dfe0-3258-40d4-b0eb-21970bb18528"
      },
      "source": [
        "#Set random seed\n",
        "tf.random.set_seed(42)\n",
        "\n",
        "#Build a model\n",
        "model_2 = tf.keras.Sequential()\n",
        "model_2.add(tf.keras.layers.Dense(10, activation ='relu')),\n",
        "model_2.add(tf.keras.layers.Dense(1, activation= 'relu')),\n",
        "\n",
        "#Compile a model\n",
        "model_2.compile(loss = tf.keras.losses.mae,\n",
        "                optimizer = tf.keras.optimizers.Adam(learning_rate= 0.01),\n",
        "                metrics = ['mae'])\n",
        "\n",
        "# Fit the model\n",
        "model_2.fit(X_train, y_train, epochs = 100)"
      ],
      "execution_count": null,
      "outputs": [
        {
          "output_type": "stream",
          "text": [
            "Epoch 1/100\n",
            "2/2 [==============================] - 0s 5ms/step - loss: 42.9790 - mae: 42.9790\n",
            "Epoch 2/100\n",
            "2/2 [==============================] - 0s 4ms/step - loss: 39.9109 - mae: 39.9109\n",
            "Epoch 3/100\n",
            "2/2 [==============================] - 0s 4ms/step - loss: 36.9743 - mae: 36.9743\n",
            "Epoch 4/100\n",
            "2/2 [==============================] - 0s 3ms/step - loss: 33.9349 - mae: 33.9349\n",
            "Epoch 5/100\n",
            "2/2 [==============================] - 0s 2ms/step - loss: 31.0283 - mae: 31.0283\n",
            "Epoch 6/100\n",
            "2/2 [==============================] - 0s 3ms/step - loss: 30.0460 - mae: 30.0460\n",
            "Epoch 7/100\n",
            "2/2 [==============================] - 0s 3ms/step - loss: 29.1513 - mae: 29.1513\n",
            "Epoch 8/100\n",
            "2/2 [==============================] - 0s 3ms/step - loss: 28.3830 - mae: 28.3830\n",
            "Epoch 9/100\n",
            "2/2 [==============================] - 0s 3ms/step - loss: 28.3122 - mae: 28.3122\n",
            "Epoch 10/100\n",
            "2/2 [==============================] - 0s 5ms/step - loss: 28.4625 - mae: 28.4625\n",
            "Epoch 11/100\n",
            "2/2 [==============================] - 0s 3ms/step - loss: 28.5315 - mae: 28.5315\n",
            "Epoch 12/100\n",
            "2/2 [==============================] - 0s 3ms/step - loss: 28.5579 - mae: 28.5579\n",
            "Epoch 13/100\n",
            "2/2 [==============================] - 0s 4ms/step - loss: 28.5453 - mae: 28.5453\n",
            "Epoch 14/100\n",
            "2/2 [==============================] - 0s 3ms/step - loss: 28.4740 - mae: 28.4740\n",
            "Epoch 15/100\n",
            "2/2 [==============================] - 0s 3ms/step - loss: 28.3715 - mae: 28.3715\n",
            "Epoch 16/100\n",
            "2/2 [==============================] - 0s 3ms/step - loss: 28.2531 - mae: 28.2531\n",
            "Epoch 17/100\n",
            "2/2 [==============================] - 0s 3ms/step - loss: 28.1713 - mae: 28.1713\n",
            "Epoch 18/100\n",
            "2/2 [==============================] - 0s 3ms/step - loss: 28.2032 - mae: 28.2032\n",
            "Epoch 19/100\n",
            "2/2 [==============================] - 0s 3ms/step - loss: 28.3004 - mae: 28.3004\n",
            "Epoch 20/100\n",
            "2/2 [==============================] - 0s 3ms/step - loss: 28.4080 - mae: 28.4080\n",
            "Epoch 21/100\n",
            "2/2 [==============================] - 0s 3ms/step - loss: 28.3707 - mae: 28.3707\n",
            "Epoch 22/100\n",
            "2/2 [==============================] - 0s 3ms/step - loss: 28.2108 - mae: 28.2108\n",
            "Epoch 23/100\n",
            "2/2 [==============================] - 0s 5ms/step - loss: 28.1597 - mae: 28.1597\n",
            "Epoch 24/100\n",
            "2/2 [==============================] - 0s 4ms/step - loss: 28.1902 - mae: 28.1902\n",
            "Epoch 25/100\n",
            "2/2 [==============================] - 0s 4ms/step - loss: 28.2495 - mae: 28.2495\n",
            "Epoch 26/100\n",
            "2/2 [==============================] - 0s 4ms/step - loss: 28.3321 - mae: 28.3321\n",
            "Epoch 27/100\n",
            "2/2 [==============================] - 0s 5ms/step - loss: 28.3441 - mae: 28.3441\n",
            "Epoch 28/100\n",
            "2/2 [==============================] - 0s 5ms/step - loss: 28.2931 - mae: 28.2931\n",
            "Epoch 29/100\n",
            "2/2 [==============================] - 0s 3ms/step - loss: 28.2301 - mae: 28.2301\n",
            "Epoch 30/100\n",
            "2/2 [==============================] - 0s 4ms/step - loss: 28.1375 - mae: 28.1375\n",
            "Epoch 31/100\n",
            "2/2 [==============================] - 0s 4ms/step - loss: 28.1034 - mae: 28.1034\n",
            "Epoch 32/100\n",
            "2/2 [==============================] - 0s 5ms/step - loss: 28.1174 - mae: 28.1174\n",
            "Epoch 33/100\n",
            "2/2 [==============================] - 0s 6ms/step - loss: 28.1689 - mae: 28.1689\n",
            "Epoch 34/100\n",
            "2/2 [==============================] - 0s 11ms/step - loss: 28.1766 - mae: 28.1766\n",
            "Epoch 35/100\n",
            "2/2 [==============================] - 0s 7ms/step - loss: 28.1293 - mae: 28.1293\n",
            "Epoch 36/100\n",
            "2/2 [==============================] - 0s 6ms/step - loss: 28.0949 - mae: 28.0949\n",
            "Epoch 37/100\n",
            "2/2 [==============================] - 0s 10ms/step - loss: 28.0693 - mae: 28.0693\n",
            "Epoch 38/100\n",
            "2/2 [==============================] - 0s 5ms/step - loss: 28.0565 - mae: 28.0565\n",
            "Epoch 39/100\n",
            "2/2 [==============================] - 0s 6ms/step - loss: 28.0706 - mae: 28.0706\n",
            "Epoch 40/100\n",
            "2/2 [==============================] - 0s 5ms/step - loss: 28.0673 - mae: 28.0673\n",
            "Epoch 41/100\n",
            "2/2 [==============================] - 0s 9ms/step - loss: 28.0625 - mae: 28.0625\n",
            "Epoch 42/100\n",
            "2/2 [==============================] - 0s 5ms/step - loss: 28.0597 - mae: 28.0597\n",
            "Epoch 43/100\n",
            "2/2 [==============================] - 0s 3ms/step - loss: 28.0590 - mae: 28.0590\n",
            "Epoch 44/100\n",
            "2/2 [==============================] - 0s 5ms/step - loss: 28.0435 - mae: 28.0435\n",
            "Epoch 45/100\n",
            "2/2 [==============================] - 0s 3ms/step - loss: 28.0262 - mae: 28.0262\n",
            "Epoch 46/100\n",
            "2/2 [==============================] - 0s 4ms/step - loss: 28.0039 - mae: 28.0039\n",
            "Epoch 47/100\n",
            "2/2 [==============================] - 0s 3ms/step - loss: 27.9949 - mae: 27.9949\n",
            "Epoch 48/100\n",
            "2/2 [==============================] - 0s 3ms/step - loss: 27.9895 - mae: 27.9895\n",
            "Epoch 49/100\n",
            "2/2 [==============================] - 0s 3ms/step - loss: 27.9818 - mae: 27.9818\n",
            "Epoch 50/100\n",
            "2/2 [==============================] - 0s 4ms/step - loss: 27.9824 - mae: 27.9824\n",
            "Epoch 51/100\n",
            "2/2 [==============================] - 0s 3ms/step - loss: 27.9625 - mae: 27.9625\n",
            "Epoch 52/100\n",
            "2/2 [==============================] - 0s 3ms/step - loss: 27.9550 - mae: 27.9550\n",
            "Epoch 53/100\n",
            "2/2 [==============================] - 0s 3ms/step - loss: 27.9442 - mae: 27.9442\n",
            "Epoch 54/100\n",
            "2/2 [==============================] - 0s 3ms/step - loss: 27.9355 - mae: 27.9355\n",
            "Epoch 55/100\n",
            "2/2 [==============================] - 0s 4ms/step - loss: 27.9407 - mae: 27.9407\n",
            "Epoch 56/100\n",
            "2/2 [==============================] - 0s 3ms/step - loss: 27.9465 - mae: 27.9465\n",
            "Epoch 57/100\n",
            "2/2 [==============================] - 0s 3ms/step - loss: 27.9391 - mae: 27.9391\n",
            "Epoch 58/100\n",
            "2/2 [==============================] - 0s 3ms/step - loss: 27.9237 - mae: 27.9237\n",
            "Epoch 59/100\n",
            "2/2 [==============================] - 0s 3ms/step - loss: 27.9113 - mae: 27.9113\n",
            "Epoch 60/100\n",
            "2/2 [==============================] - 0s 3ms/step - loss: 27.8998 - mae: 27.8998\n",
            "Epoch 61/100\n",
            "2/2 [==============================] - 0s 3ms/step - loss: 27.8854 - mae: 27.8854\n",
            "Epoch 62/100\n",
            "2/2 [==============================] - 0s 3ms/step - loss: 27.8760 - mae: 27.8760\n",
            "Epoch 63/100\n",
            "2/2 [==============================] - 0s 3ms/step - loss: 27.8775 - mae: 27.8775\n",
            "Epoch 64/100\n",
            "2/2 [==============================] - 0s 3ms/step - loss: 27.8882 - mae: 27.8882\n",
            "Epoch 65/100\n",
            "2/2 [==============================] - 0s 3ms/step - loss: 27.8554 - mae: 27.8554\n",
            "Epoch 66/100\n",
            "2/2 [==============================] - 0s 4ms/step - loss: 27.8399 - mae: 27.8399\n",
            "Epoch 67/100\n",
            "2/2 [==============================] - 0s 3ms/step - loss: 27.8510 - mae: 27.8510\n",
            "Epoch 68/100\n",
            "2/2 [==============================] - 0s 3ms/step - loss: 27.8679 - mae: 27.8679\n",
            "Epoch 69/100\n",
            "2/2 [==============================] - 0s 11ms/step - loss: 27.8675 - mae: 27.8675\n",
            "Epoch 70/100\n",
            "2/2 [==============================] - 0s 5ms/step - loss: 27.8520 - mae: 27.8520\n",
            "Epoch 71/100\n",
            "2/2 [==============================] - 0s 6ms/step - loss: 27.8211 - mae: 27.8211\n",
            "Epoch 72/100\n",
            "2/2 [==============================] - 0s 8ms/step - loss: 27.8095 - mae: 27.8095\n",
            "Epoch 73/100\n",
            "2/2 [==============================] - 0s 5ms/step - loss: 27.7869 - mae: 27.7869\n",
            "Epoch 74/100\n",
            "2/2 [==============================] - 0s 5ms/step - loss: 27.7788 - mae: 27.7788\n",
            "Epoch 75/100\n",
            "2/2 [==============================] - 0s 7ms/step - loss: 27.7628 - mae: 27.7628\n",
            "Epoch 76/100\n",
            "2/2 [==============================] - 0s 3ms/step - loss: 27.8294 - mae: 27.8294\n",
            "Epoch 77/100\n",
            "2/2 [==============================] - 0s 9ms/step - loss: 27.8927 - mae: 27.8927\n",
            "Epoch 78/100\n",
            "2/2 [==============================] - 0s 3ms/step - loss: 27.8370 - mae: 27.8370\n",
            "Epoch 79/100\n",
            "2/2 [==============================] - 0s 4ms/step - loss: 27.7750 - mae: 27.7750\n",
            "Epoch 80/100\n",
            "2/2 [==============================] - 0s 4ms/step - loss: 27.7274 - mae: 27.7274\n",
            "Epoch 81/100\n",
            "2/2 [==============================] - 0s 4ms/step - loss: 27.7280 - mae: 27.7280\n",
            "Epoch 82/100\n",
            "2/2 [==============================] - 0s 3ms/step - loss: 27.7307 - mae: 27.7307\n",
            "Epoch 83/100\n",
            "2/2 [==============================] - 0s 4ms/step - loss: 27.7366 - mae: 27.7366\n",
            "Epoch 84/100\n",
            "2/2 [==============================] - 0s 4ms/step - loss: 27.7221 - mae: 27.7221\n",
            "Epoch 85/100\n",
            "2/2 [==============================] - 0s 6ms/step - loss: 27.7030 - mae: 27.7030\n",
            "Epoch 86/100\n",
            "2/2 [==============================] - 0s 4ms/step - loss: 27.6808 - mae: 27.6808\n",
            "Epoch 87/100\n",
            "2/2 [==============================] - 0s 5ms/step - loss: 27.6709 - mae: 27.6709\n",
            "Epoch 88/100\n",
            "2/2 [==============================] - 0s 6ms/step - loss: 27.6672 - mae: 27.6672\n",
            "Epoch 89/100\n",
            "2/2 [==============================] - 0s 3ms/step - loss: 27.6688 - mae: 27.6688\n",
            "Epoch 90/100\n",
            "2/2 [==============================] - 0s 3ms/step - loss: 27.6627 - mae: 27.6627\n",
            "Epoch 91/100\n",
            "2/2 [==============================] - 0s 3ms/step - loss: 27.6514 - mae: 27.6514\n",
            "Epoch 92/100\n",
            "2/2 [==============================] - 0s 3ms/step - loss: 27.6573 - mae: 27.6573\n",
            "Epoch 93/100\n",
            "2/2 [==============================] - 0s 3ms/step - loss: 27.6391 - mae: 27.6391\n",
            "Epoch 94/100\n",
            "2/2 [==============================] - 0s 7ms/step - loss: 27.6160 - mae: 27.6160\n",
            "Epoch 95/100\n",
            "2/2 [==============================] - 0s 3ms/step - loss: 27.6042 - mae: 27.6042\n",
            "Epoch 96/100\n",
            "2/2 [==============================] - 0s 3ms/step - loss: 27.6227 - mae: 27.6227\n",
            "Epoch 97/100\n",
            "2/2 [==============================] - 0s 3ms/step - loss: 27.6234 - mae: 27.6234\n",
            "Epoch 98/100\n",
            "2/2 [==============================] - 0s 3ms/step - loss: 27.5950 - mae: 27.5950\n",
            "Epoch 99/100\n",
            "2/2 [==============================] - 0s 4ms/step - loss: 27.5643 - mae: 27.5643\n",
            "Epoch 100/100\n",
            "2/2 [==============================] - 0s 3ms/step - loss: 27.5605 - mae: 27.5605\n"
          ],
          "name": "stdout"
        },
        {
          "output_type": "execute_result",
          "data": {
            "text/plain": [
              "<tensorflow.python.keras.callbacks.History at 0x7f6a2b649d10>"
            ]
          },
          "metadata": {
            "tags": []
          },
          "execution_count": 256
        }
      ]
    },
    {
      "cell_type": "code",
      "metadata": {
        "colab": {
          "base_uri": "https://localhost:8080/",
          "height": 428
        },
        "id": "ycuQ72NFMebZ",
        "outputId": "17783f26-581e-491b-9965-b5dc5f3771e4"
      },
      "source": [
        "#Make and plot predictions\n",
        "y_preds_2 = model_2.predict(X_test)\n",
        "\n",
        "plot_predictions(train_data= X_train,\n",
        "                 train_labels = y_train,\n",
        "                 test_data = X_test,\n",
        "                 test_labels = y_test,\n",
        "                 predictions = y_preds_2)"
      ],
      "execution_count": null,
      "outputs": [
        {
          "output_type": "display_data",
          "data": {
            "image/png": "[encoded data removed]",
            "text/plain": [
              "<Figure size 720x504 with 1 Axes>"
            ]
          },
          "metadata": {
            "tags": []
          }
        }
      ]
    },
    {
      "cell_type": "code",
      "metadata": {
        "colab": {
          "background_save": true
        },
        "id": "L3MTZj_9NQqw",
        "outputId": "1181d431-71b3-4bbb-d676-f6ddcf09a155"
      },
      "source": [
        "# Calculate model_2 evaluation metrics \n",
        "mae_2 = mae(y_test, tf.squeeze(y_preds_2))\n",
        "mse_2 = mse(y_test, tf.squeeze(y_preds_2))\n",
        "\n",
        "mae_2, mse_2"
      ],
      "execution_count": null,
      "outputs": [
        {
          "output_type": "execute_result",
          "data": {
            "text/plain": [
              "(<tf.Tensor: shape=(), dtype=float32, numpy=3.4039192>,\n",
              " <tf.Tensor: shape=(), dtype=float32, numpy=13.329376>)"
            ]
          },
          "metadata": {
            "tags": []
          },
          "execution_count": 0
        }
      ]
    },
    {
      "cell_type": "code",
      "metadata": {
        "id": "2fY6DXykN5TM"
      },
      "source": [
        ""
      ],
      "execution_count": null,
      "outputs": []
    }
  ]
}